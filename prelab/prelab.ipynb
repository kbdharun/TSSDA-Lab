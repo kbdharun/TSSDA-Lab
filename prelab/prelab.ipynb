{
 "cells": [
  {
   "cell_type": "markdown",
   "id": "15955364",
   "metadata": {},
   "source": [
    "### Prelab\n",
    "\n",
    "13.01.24"
   ]
  },
  {
   "cell_type": "markdown",
   "id": "2c09135e",
   "metadata": {},
   "source": [
    "_**Importing packages**_"
   ]
  },
  {
   "cell_type": "code",
   "execution_count": 2,
   "id": "1b68149c",
   "metadata": {},
   "outputs": [],
   "source": [
    "import numpy as np\n",
    "import scipy as sp\n",
    "import pandas as pd\n",
    "import matplotlib as mpl\n",
    "import seaborn as sns"
   ]
  },
  {
   "cell_type": "code",
   "execution_count": 7,
   "id": "f1fc4caf",
   "metadata": {},
   "outputs": [],
   "source": [
    "df = pd.read_csv (\"daily-total-female-births.csv\") #Importing dataset"
   ]
  },
  {
   "cell_type": "markdown",
   "id": "0d74205c",
   "metadata": {},
   "source": [
    "**_Viewing records from the dataset_**"
   ]
  },
  {
   "cell_type": "code",
   "execution_count": 8,
   "id": "b2e3218e",
   "metadata": {},
   "outputs": [
    {
     "data": {
      "text/html": [
       "<div>\n",
       "<style scoped>\n",
       "    .dataframe tbody tr th:only-of-type {\n",
       "        vertical-align: middle;\n",
       "    }\n",
       "\n",
       "    .dataframe tbody tr th {\n",
       "        vertical-align: top;\n",
       "    }\n",
       "\n",
       "    .dataframe thead th {\n",
       "        text-align: right;\n",
       "    }\n",
       "</style>\n",
       "<table border=\"1\" class=\"dataframe\">\n",
       "  <thead>\n",
       "    <tr style=\"text-align: right;\">\n",
       "      <th></th>\n",
       "      <th>Date</th>\n",
       "      <th>Births</th>\n",
       "    </tr>\n",
       "  </thead>\n",
       "  <tbody>\n",
       "    <tr>\n",
       "      <th>0</th>\n",
       "      <td>1959-01-01</td>\n",
       "      <td>35</td>\n",
       "    </tr>\n",
       "    <tr>\n",
       "      <th>1</th>\n",
       "      <td>1959-01-02</td>\n",
       "      <td>32</td>\n",
       "    </tr>\n",
       "    <tr>\n",
       "      <th>2</th>\n",
       "      <td>1959-01-03</td>\n",
       "      <td>30</td>\n",
       "    </tr>\n",
       "    <tr>\n",
       "      <th>3</th>\n",
       "      <td>1959-01-04</td>\n",
       "      <td>31</td>\n",
       "    </tr>\n",
       "    <tr>\n",
       "      <th>4</th>\n",
       "      <td>1959-01-05</td>\n",
       "      <td>44</td>\n",
       "    </tr>\n",
       "  </tbody>\n",
       "</table>\n",
       "</div>"
      ],
      "text/plain": [
       "         Date  Births\n",
       "0  1959-01-01      35\n",
       "1  1959-01-02      32\n",
       "2  1959-01-03      30\n",
       "3  1959-01-04      31\n",
       "4  1959-01-05      44"
      ]
     },
     "execution_count": 8,
     "metadata": {},
     "output_type": "execute_result"
    }
   ],
   "source": [
    "df.head() # List first 5 records"
   ]
  },
  {
   "cell_type": "code",
   "execution_count": 15,
   "id": "655970f0",
   "metadata": {},
   "outputs": [
    {
     "data": {
      "text/html": [
       "<div>\n",
       "<style scoped>\n",
       "    .dataframe tbody tr th:only-of-type {\n",
       "        vertical-align: middle;\n",
       "    }\n",
       "\n",
       "    .dataframe tbody tr th {\n",
       "        vertical-align: top;\n",
       "    }\n",
       "\n",
       "    .dataframe thead th {\n",
       "        text-align: right;\n",
       "    }\n",
       "</style>\n",
       "<table border=\"1\" class=\"dataframe\">\n",
       "  <thead>\n",
       "    <tr style=\"text-align: right;\">\n",
       "      <th></th>\n",
       "      <th>Date</th>\n",
       "      <th>Births</th>\n",
       "    </tr>\n",
       "  </thead>\n",
       "  <tbody>\n",
       "    <tr>\n",
       "      <th>360</th>\n",
       "      <td>1959-12-27</td>\n",
       "      <td>37</td>\n",
       "    </tr>\n",
       "    <tr>\n",
       "      <th>361</th>\n",
       "      <td>1959-12-28</td>\n",
       "      <td>52</td>\n",
       "    </tr>\n",
       "    <tr>\n",
       "      <th>362</th>\n",
       "      <td>1959-12-29</td>\n",
       "      <td>48</td>\n",
       "    </tr>\n",
       "    <tr>\n",
       "      <th>363</th>\n",
       "      <td>1959-12-30</td>\n",
       "      <td>55</td>\n",
       "    </tr>\n",
       "    <tr>\n",
       "      <th>364</th>\n",
       "      <td>1959-12-31</td>\n",
       "      <td>50</td>\n",
       "    </tr>\n",
       "  </tbody>\n",
       "</table>\n",
       "</div>"
      ],
      "text/plain": [
       "           Date  Births\n",
       "360  1959-12-27      37\n",
       "361  1959-12-28      52\n",
       "362  1959-12-29      48\n",
       "363  1959-12-30      55\n",
       "364  1959-12-31      50"
      ]
     },
     "execution_count": 15,
     "metadata": {},
     "output_type": "execute_result"
    }
   ],
   "source": [
    "df.tail() # List last 5 records"
   ]
  },
  {
   "cell_type": "code",
   "execution_count": 16,
   "id": "7143d323",
   "metadata": {},
   "outputs": [
    {
     "data": {
      "text/plain": [
       "Index(['Date', 'Births'], dtype='object')"
      ]
     },
     "execution_count": 16,
     "metadata": {},
     "output_type": "execute_result"
    }
   ],
   "source": [
    "df.columns # List columns"
   ]
  },
  {
   "cell_type": "code",
   "execution_count": 17,
   "id": "33cf7579",
   "metadata": {},
   "outputs": [
    {
     "data": {
      "text/plain": [
       "[RangeIndex(start=0, stop=365, step=1),\n",
       " Index(['Date', 'Births'], dtype='object')]"
      ]
     },
     "execution_count": 17,
     "metadata": {},
     "output_type": "execute_result"
    }
   ],
   "source": [
    "df.axes # Access the group of rows and columns labels of the given DataFrame"
   ]
  },
  {
   "cell_type": "code",
   "execution_count": 60,
   "id": "f25c2b9c",
   "metadata": {},
   "outputs": [
    {
     "data": {
      "text/plain": [
       "2"
      ]
     },
     "execution_count": 60,
     "metadata": {},
     "output_type": "execute_result"
    }
   ],
   "source": [
    "df.ndim # Check the number of dimensions"
   ]
  },
  {
   "cell_type": "code",
   "execution_count": 61,
   "id": "6043de59",
   "metadata": {},
   "outputs": [
    {
     "data": {
      "text/plain": [
       "730"
      ]
     },
     "execution_count": 61,
     "metadata": {},
     "output_type": "execute_result"
    }
   ],
   "source": [
    "df.size # Check the number of elements"
   ]
  },
  {
   "cell_type": "code",
   "execution_count": 62,
   "id": "5a87229f",
   "metadata": {},
   "outputs": [
    {
     "data": {
      "text/plain": [
       "(365, 2)"
      ]
     },
     "execution_count": 62,
     "metadata": {},
     "output_type": "execute_result"
    }
   ],
   "source": [
    "df.shape # Returns a tuple representing the dimensionality"
   ]
  },
  {
   "cell_type": "code",
   "execution_count": 63,
   "id": "4ef8390c",
   "metadata": {},
   "outputs": [
    {
     "data": {
      "text/plain": [
       "array([['1959-01-01', 35],\n",
       "       ['1959-01-02', 32],\n",
       "       ['1959-01-03', 30],\n",
       "       ['1959-01-04', 31],\n",
       "       ['1959-01-05', 44],\n",
       "       ['1959-01-06', 29],\n",
       "       ['1959-01-07', 45],\n",
       "       ['1959-01-08', 43],\n",
       "       ['1959-01-09', 38],\n",
       "       ['1959-01-10', 27],\n",
       "       ['1959-01-11', 38],\n",
       "       ['1959-01-12', 33],\n",
       "       ['1959-01-13', 55],\n",
       "       ['1959-01-14', 47],\n",
       "       ['1959-01-15', 45],\n",
       "       ['1959-01-16', 37],\n",
       "       ['1959-01-17', 50],\n",
       "       ['1959-01-18', 43],\n",
       "       ['1959-01-19', 41],\n",
       "       ['1959-01-20', 52],\n",
       "       ['1959-01-21', 34],\n",
       "       ['1959-01-22', 53],\n",
       "       ['1959-01-23', 39],\n",
       "       ['1959-01-24', 32],\n",
       "       ['1959-01-25', 37],\n",
       "       ['1959-01-26', 43],\n",
       "       ['1959-01-27', 39],\n",
       "       ['1959-01-28', 35],\n",
       "       ['1959-01-29', 44],\n",
       "       ['1959-01-30', 38],\n",
       "       ['1959-01-31', 24],\n",
       "       ['1959-02-01', 23],\n",
       "       ['1959-02-02', 31],\n",
       "       ['1959-02-03', 44],\n",
       "       ['1959-02-04', 38],\n",
       "       ['1959-02-05', 50],\n",
       "       ['1959-02-06', 38],\n",
       "       ['1959-02-07', 51],\n",
       "       ['1959-02-08', 31],\n",
       "       ['1959-02-09', 31],\n",
       "       ['1959-02-10', 51],\n",
       "       ['1959-02-11', 36],\n",
       "       ['1959-02-12', 45],\n",
       "       ['1959-02-13', 51],\n",
       "       ['1959-02-14', 34],\n",
       "       ['1959-02-15', 52],\n",
       "       ['1959-02-16', 47],\n",
       "       ['1959-02-17', 45],\n",
       "       ['1959-02-18', 46],\n",
       "       ['1959-02-19', 39],\n",
       "       ['1959-02-20', 48],\n",
       "       ['1959-02-21', 37],\n",
       "       ['1959-02-22', 35],\n",
       "       ['1959-02-23', 52],\n",
       "       ['1959-02-24', 42],\n",
       "       ['1959-02-25', 45],\n",
       "       ['1959-02-26', 39],\n",
       "       ['1959-02-27', 37],\n",
       "       ['1959-02-28', 30],\n",
       "       ['1959-03-01', 35],\n",
       "       ['1959-03-02', 28],\n",
       "       ['1959-03-03', 45],\n",
       "       ['1959-03-04', 34],\n",
       "       ['1959-03-05', 36],\n",
       "       ['1959-03-06', 50],\n",
       "       ['1959-03-07', 44],\n",
       "       ['1959-03-08', 39],\n",
       "       ['1959-03-09', 32],\n",
       "       ['1959-03-10', 39],\n",
       "       ['1959-03-11', 45],\n",
       "       ['1959-03-12', 43],\n",
       "       ['1959-03-13', 39],\n",
       "       ['1959-03-14', 31],\n",
       "       ['1959-03-15', 27],\n",
       "       ['1959-03-16', 30],\n",
       "       ['1959-03-17', 42],\n",
       "       ['1959-03-18', 46],\n",
       "       ['1959-03-19', 41],\n",
       "       ['1959-03-20', 36],\n",
       "       ['1959-03-21', 45],\n",
       "       ['1959-03-22', 46],\n",
       "       ['1959-03-23', 43],\n",
       "       ['1959-03-24', 38],\n",
       "       ['1959-03-25', 34],\n",
       "       ['1959-03-26', 35],\n",
       "       ['1959-03-27', 56],\n",
       "       ['1959-03-28', 36],\n",
       "       ['1959-03-29', 32],\n",
       "       ['1959-03-30', 50],\n",
       "       ['1959-03-31', 41],\n",
       "       ['1959-04-01', 39],\n",
       "       ['1959-04-02', 41],\n",
       "       ['1959-04-03', 47],\n",
       "       ['1959-04-04', 34],\n",
       "       ['1959-04-05', 36],\n",
       "       ['1959-04-06', 33],\n",
       "       ['1959-04-07', 35],\n",
       "       ['1959-04-08', 38],\n",
       "       ['1959-04-09', 38],\n",
       "       ['1959-04-10', 34],\n",
       "       ['1959-04-11', 53],\n",
       "       ['1959-04-12', 34],\n",
       "       ['1959-04-13', 34],\n",
       "       ['1959-04-14', 38],\n",
       "       ['1959-04-15', 35],\n",
       "       ['1959-04-16', 32],\n",
       "       ['1959-04-17', 42],\n",
       "       ['1959-04-18', 34],\n",
       "       ['1959-04-19', 46],\n",
       "       ['1959-04-20', 30],\n",
       "       ['1959-04-21', 46],\n",
       "       ['1959-04-22', 45],\n",
       "       ['1959-04-23', 54],\n",
       "       ['1959-04-24', 34],\n",
       "       ['1959-04-25', 37],\n",
       "       ['1959-04-26', 35],\n",
       "       ['1959-04-27', 40],\n",
       "       ['1959-04-28', 42],\n",
       "       ['1959-04-29', 58],\n",
       "       ['1959-04-30', 51],\n",
       "       ['1959-05-01', 32],\n",
       "       ['1959-05-02', 35],\n",
       "       ['1959-05-03', 38],\n",
       "       ['1959-05-04', 33],\n",
       "       ['1959-05-05', 39],\n",
       "       ['1959-05-06', 47],\n",
       "       ['1959-05-07', 38],\n",
       "       ['1959-05-08', 52],\n",
       "       ['1959-05-09', 30],\n",
       "       ['1959-05-10', 34],\n",
       "       ['1959-05-11', 40],\n",
       "       ['1959-05-12', 35],\n",
       "       ['1959-05-13', 42],\n",
       "       ['1959-05-14', 41],\n",
       "       ['1959-05-15', 42],\n",
       "       ['1959-05-16', 38],\n",
       "       ['1959-05-17', 24],\n",
       "       ['1959-05-18', 34],\n",
       "       ['1959-05-19', 43],\n",
       "       ['1959-05-20', 36],\n",
       "       ['1959-05-21', 55],\n",
       "       ['1959-05-22', 41],\n",
       "       ['1959-05-23', 45],\n",
       "       ['1959-05-24', 41],\n",
       "       ['1959-05-25', 37],\n",
       "       ['1959-05-26', 43],\n",
       "       ['1959-05-27', 39],\n",
       "       ['1959-05-28', 33],\n",
       "       ['1959-05-29', 43],\n",
       "       ['1959-05-30', 40],\n",
       "       ['1959-05-31', 38],\n",
       "       ['1959-06-01', 45],\n",
       "       ['1959-06-02', 46],\n",
       "       ['1959-06-03', 34],\n",
       "       ['1959-06-04', 35],\n",
       "       ['1959-06-05', 48],\n",
       "       ['1959-06-06', 51],\n",
       "       ['1959-06-07', 36],\n",
       "       ['1959-06-08', 33],\n",
       "       ['1959-06-09', 46],\n",
       "       ['1959-06-10', 42],\n",
       "       ['1959-06-11', 48],\n",
       "       ['1959-06-12', 34],\n",
       "       ['1959-06-13', 41],\n",
       "       ['1959-06-14', 35],\n",
       "       ['1959-06-15', 40],\n",
       "       ['1959-06-16', 34],\n",
       "       ['1959-06-17', 30],\n",
       "       ['1959-06-18', 36],\n",
       "       ['1959-06-19', 40],\n",
       "       ['1959-06-20', 39],\n",
       "       ['1959-06-21', 45],\n",
       "       ['1959-06-22', 38],\n",
       "       ['1959-06-23', 47],\n",
       "       ['1959-06-24', 33],\n",
       "       ['1959-06-25', 30],\n",
       "       ['1959-06-26', 42],\n",
       "       ['1959-06-27', 43],\n",
       "       ['1959-06-28', 41],\n",
       "       ['1959-06-29', 41],\n",
       "       ['1959-06-30', 59],\n",
       "       ['1959-07-01', 43],\n",
       "       ['1959-07-02', 45],\n",
       "       ['1959-07-03', 38],\n",
       "       ['1959-07-04', 37],\n",
       "       ['1959-07-05', 45],\n",
       "       ['1959-07-06', 42],\n",
       "       ['1959-07-07', 57],\n",
       "       ['1959-07-08', 46],\n",
       "       ['1959-07-09', 51],\n",
       "       ['1959-07-10', 41],\n",
       "       ['1959-07-11', 47],\n",
       "       ['1959-07-12', 26],\n",
       "       ['1959-07-13', 35],\n",
       "       ['1959-07-14', 44],\n",
       "       ['1959-07-15', 41],\n",
       "       ['1959-07-16', 42],\n",
       "       ['1959-07-17', 36],\n",
       "       ['1959-07-18', 45],\n",
       "       ['1959-07-19', 45],\n",
       "       ['1959-07-20', 45],\n",
       "       ['1959-07-21', 47],\n",
       "       ['1959-07-22', 38],\n",
       "       ['1959-07-23', 42],\n",
       "       ['1959-07-24', 35],\n",
       "       ['1959-07-25', 36],\n",
       "       ['1959-07-26', 39],\n",
       "       ['1959-07-27', 45],\n",
       "       ['1959-07-28', 43],\n",
       "       ['1959-07-29', 47],\n",
       "       ['1959-07-30', 36],\n",
       "       ['1959-07-31', 41],\n",
       "       ['1959-08-01', 50],\n",
       "       ['1959-08-02', 39],\n",
       "       ['1959-08-03', 41],\n",
       "       ['1959-08-04', 46],\n",
       "       ['1959-08-05', 64],\n",
       "       ['1959-08-06', 45],\n",
       "       ['1959-08-07', 34],\n",
       "       ['1959-08-08', 38],\n",
       "       ['1959-08-09', 44],\n",
       "       ['1959-08-10', 48],\n",
       "       ['1959-08-11', 46],\n",
       "       ['1959-08-12', 44],\n",
       "       ['1959-08-13', 37],\n",
       "       ['1959-08-14', 39],\n",
       "       ['1959-08-15', 44],\n",
       "       ['1959-08-16', 45],\n",
       "       ['1959-08-17', 33],\n",
       "       ['1959-08-18', 44],\n",
       "       ['1959-08-19', 38],\n",
       "       ['1959-08-20', 46],\n",
       "       ['1959-08-21', 46],\n",
       "       ['1959-08-22', 40],\n",
       "       ['1959-08-23', 39],\n",
       "       ['1959-08-24', 44],\n",
       "       ['1959-08-25', 48],\n",
       "       ['1959-08-26', 50],\n",
       "       ['1959-08-27', 41],\n",
       "       ['1959-08-28', 42],\n",
       "       ['1959-08-29', 51],\n",
       "       ['1959-08-30', 41],\n",
       "       ['1959-08-31', 44],\n",
       "       ['1959-09-01', 38],\n",
       "       ['1959-09-02', 68],\n",
       "       ['1959-09-03', 40],\n",
       "       ['1959-09-04', 42],\n",
       "       ['1959-09-05', 51],\n",
       "       ['1959-09-06', 44],\n",
       "       ['1959-09-07', 45],\n",
       "       ['1959-09-08', 36],\n",
       "       ['1959-09-09', 57],\n",
       "       ['1959-09-10', 44],\n",
       "       ['1959-09-11', 42],\n",
       "       ['1959-09-12', 53],\n",
       "       ['1959-09-13', 42],\n",
       "       ['1959-09-14', 34],\n",
       "       ['1959-09-15', 40],\n",
       "       ['1959-09-16', 56],\n",
       "       ['1959-09-17', 44],\n",
       "       ['1959-09-18', 53],\n",
       "       ['1959-09-19', 55],\n",
       "       ['1959-09-20', 39],\n",
       "       ['1959-09-21', 59],\n",
       "       ['1959-09-22', 55],\n",
       "       ['1959-09-23', 73],\n",
       "       ['1959-09-24', 55],\n",
       "       ['1959-09-25', 44],\n",
       "       ['1959-09-26', 43],\n",
       "       ['1959-09-27', 40],\n",
       "       ['1959-09-28', 47],\n",
       "       ['1959-09-29', 51],\n",
       "       ['1959-09-30', 56],\n",
       "       ['1959-10-01', 49],\n",
       "       ['1959-10-02', 54],\n",
       "       ['1959-10-03', 56],\n",
       "       ['1959-10-04', 47],\n",
       "       ['1959-10-05', 44],\n",
       "       ['1959-10-06', 43],\n",
       "       ['1959-10-07', 42],\n",
       "       ['1959-10-08', 45],\n",
       "       ['1959-10-09', 50],\n",
       "       ['1959-10-10', 48],\n",
       "       ['1959-10-11', 43],\n",
       "       ['1959-10-12', 40],\n",
       "       ['1959-10-13', 59],\n",
       "       ['1959-10-14', 41],\n",
       "       ['1959-10-15', 42],\n",
       "       ['1959-10-16', 51],\n",
       "       ['1959-10-17', 49],\n",
       "       ['1959-10-18', 45],\n",
       "       ['1959-10-19', 43],\n",
       "       ['1959-10-20', 42],\n",
       "       ['1959-10-21', 38],\n",
       "       ['1959-10-22', 47],\n",
       "       ['1959-10-23', 38],\n",
       "       ['1959-10-24', 36],\n",
       "       ['1959-10-25', 42],\n",
       "       ['1959-10-26', 35],\n",
       "       ['1959-10-27', 28],\n",
       "       ['1959-10-28', 44],\n",
       "       ['1959-10-29', 36],\n",
       "       ['1959-10-30', 45],\n",
       "       ['1959-10-31', 46],\n",
       "       ['1959-11-01', 48],\n",
       "       ['1959-11-02', 49],\n",
       "       ['1959-11-03', 43],\n",
       "       ['1959-11-04', 42],\n",
       "       ['1959-11-05', 59],\n",
       "       ['1959-11-06', 45],\n",
       "       ['1959-11-07', 52],\n",
       "       ['1959-11-08', 46],\n",
       "       ['1959-11-09', 42],\n",
       "       ['1959-11-10', 40],\n",
       "       ['1959-11-11', 40],\n",
       "       ['1959-11-12', 45],\n",
       "       ['1959-11-13', 35],\n",
       "       ['1959-11-14', 35],\n",
       "       ['1959-11-15', 40],\n",
       "       ['1959-11-16', 39],\n",
       "       ['1959-11-17', 33],\n",
       "       ['1959-11-18', 42],\n",
       "       ['1959-11-19', 47],\n",
       "       ['1959-11-20', 51],\n",
       "       ['1959-11-21', 44],\n",
       "       ['1959-11-22', 40],\n",
       "       ['1959-11-23', 57],\n",
       "       ['1959-11-24', 49],\n",
       "       ['1959-11-25', 45],\n",
       "       ['1959-11-26', 49],\n",
       "       ['1959-11-27', 51],\n",
       "       ['1959-11-28', 46],\n",
       "       ['1959-11-29', 44],\n",
       "       ['1959-11-30', 52],\n",
       "       ['1959-12-01', 45],\n",
       "       ['1959-12-02', 32],\n",
       "       ['1959-12-03', 46],\n",
       "       ['1959-12-04', 41],\n",
       "       ['1959-12-05', 34],\n",
       "       ['1959-12-06', 33],\n",
       "       ['1959-12-07', 36],\n",
       "       ['1959-12-08', 49],\n",
       "       ['1959-12-09', 43],\n",
       "       ['1959-12-10', 43],\n",
       "       ['1959-12-11', 34],\n",
       "       ['1959-12-12', 39],\n",
       "       ['1959-12-13', 35],\n",
       "       ['1959-12-14', 52],\n",
       "       ['1959-12-15', 47],\n",
       "       ['1959-12-16', 52],\n",
       "       ['1959-12-17', 39],\n",
       "       ['1959-12-18', 40],\n",
       "       ['1959-12-19', 42],\n",
       "       ['1959-12-20', 42],\n",
       "       ['1959-12-21', 53],\n",
       "       ['1959-12-22', 39],\n",
       "       ['1959-12-23', 40],\n",
       "       ['1959-12-24', 38],\n",
       "       ['1959-12-25', 44],\n",
       "       ['1959-12-26', 34],\n",
       "       ['1959-12-27', 37],\n",
       "       ['1959-12-28', 52],\n",
       "       ['1959-12-29', 48],\n",
       "       ['1959-12-30', 55],\n",
       "       ['1959-12-31', 50]], dtype=object)"
      ]
     },
     "execution_count": 63,
     "metadata": {},
     "output_type": "execute_result"
    }
   ],
   "source": [
    "df.values # numpy representation of data"
   ]
  },
  {
   "cell_type": "code",
   "execution_count": 11,
   "id": "2a21ca6b",
   "metadata": {},
   "outputs": [
    {
     "data": {
      "text/plain": [
       "dtype('O')"
      ]
     },
     "execution_count": 11,
     "metadata": {},
     "output_type": "execute_result"
    }
   ],
   "source": [
    "df['Date'].dtype # Check datatype of a specific column"
   ]
  },
  {
   "cell_type": "code",
   "execution_count": 12,
   "id": "9e15fc4e",
   "metadata": {},
   "outputs": [
    {
     "data": {
      "text/plain": [
       "Date      object\n",
       "Births     int64\n",
       "dtype: object"
      ]
     },
     "execution_count": 12,
     "metadata": {},
     "output_type": "execute_result"
    }
   ],
   "source": [
    "df.dtypes # Check datatypes of all columns"
   ]
  },
  {
   "cell_type": "code",
   "execution_count": 13,
   "id": "3b3082db",
   "metadata": {},
   "outputs": [],
   "source": [
    "df_rank=df.groupby(['Date']) # Group data using Date"
   ]
  },
  {
   "cell_type": "code",
   "execution_count": 14,
   "id": "55cc6229",
   "metadata": {},
   "outputs": [
    {
     "data": {
      "text/html": [
       "<div>\n",
       "<style scoped>\n",
       "    .dataframe tbody tr th:only-of-type {\n",
       "        vertical-align: middle;\n",
       "    }\n",
       "\n",
       "    .dataframe tbody tr th {\n",
       "        vertical-align: top;\n",
       "    }\n",
       "\n",
       "    .dataframe thead th {\n",
       "        text-align: right;\n",
       "    }\n",
       "</style>\n",
       "<table border=\"1\" class=\"dataframe\">\n",
       "  <thead>\n",
       "    <tr style=\"text-align: right;\">\n",
       "      <th></th>\n",
       "      <th>Births</th>\n",
       "    </tr>\n",
       "    <tr>\n",
       "      <th>Date</th>\n",
       "      <th></th>\n",
       "    </tr>\n",
       "  </thead>\n",
       "  <tbody>\n",
       "    <tr>\n",
       "      <th>1959-01-01</th>\n",
       "      <td>35</td>\n",
       "    </tr>\n",
       "    <tr>\n",
       "      <th>1959-01-02</th>\n",
       "      <td>32</td>\n",
       "    </tr>\n",
       "    <tr>\n",
       "      <th>1959-01-03</th>\n",
       "      <td>30</td>\n",
       "    </tr>\n",
       "    <tr>\n",
       "      <th>1959-01-04</th>\n",
       "      <td>31</td>\n",
       "    </tr>\n",
       "    <tr>\n",
       "      <th>1959-01-05</th>\n",
       "      <td>44</td>\n",
       "    </tr>\n",
       "    <tr>\n",
       "      <th>...</th>\n",
       "      <td>...</td>\n",
       "    </tr>\n",
       "    <tr>\n",
       "      <th>1959-12-27</th>\n",
       "      <td>37</td>\n",
       "    </tr>\n",
       "    <tr>\n",
       "      <th>1959-12-28</th>\n",
       "      <td>52</td>\n",
       "    </tr>\n",
       "    <tr>\n",
       "      <th>1959-12-29</th>\n",
       "      <td>48</td>\n",
       "    </tr>\n",
       "    <tr>\n",
       "      <th>1959-12-30</th>\n",
       "      <td>55</td>\n",
       "    </tr>\n",
       "    <tr>\n",
       "      <th>1959-12-31</th>\n",
       "      <td>50</td>\n",
       "    </tr>\n",
       "  </tbody>\n",
       "</table>\n",
       "<p>365 rows × 1 columns</p>\n",
       "</div>"
      ],
      "text/plain": [
       "            Births\n",
       "Date              \n",
       "1959-01-01      35\n",
       "1959-01-02      32\n",
       "1959-01-03      30\n",
       "1959-01-04      31\n",
       "1959-01-05      44\n",
       "...            ...\n",
       "1959-12-27      37\n",
       "1959-12-28      52\n",
       "1959-12-29      48\n",
       "1959-12-30      55\n",
       "1959-12-31      50\n",
       "\n",
       "[365 rows x 1 columns]"
      ]
     },
     "execution_count": 14,
     "metadata": {},
     "output_type": "execute_result"
    }
   ],
   "source": [
    "df_rank.mean() # Mean"
   ]
  },
  {
   "cell_type": "code",
   "execution_count": 18,
   "id": "721a01c5",
   "metadata": {},
   "outputs": [
    {
     "data": {
      "text/html": [
       "<div>\n",
       "<style scoped>\n",
       "    .dataframe tbody tr th:only-of-type {\n",
       "        vertical-align: middle;\n",
       "    }\n",
       "\n",
       "    .dataframe tbody tr th {\n",
       "        vertical-align: top;\n",
       "    }\n",
       "\n",
       "    .dataframe thead th {\n",
       "        text-align: right;\n",
       "    }\n",
       "</style>\n",
       "<table border=\"1\" class=\"dataframe\">\n",
       "  <thead>\n",
       "    <tr style=\"text-align: right;\">\n",
       "      <th></th>\n",
       "      <th>Births</th>\n",
       "    </tr>\n",
       "    <tr>\n",
       "      <th>Date</th>\n",
       "      <th></th>\n",
       "    </tr>\n",
       "  </thead>\n",
       "  <tbody>\n",
       "    <tr>\n",
       "      <th>1959-01-01</th>\n",
       "      <td>35</td>\n",
       "    </tr>\n",
       "    <tr>\n",
       "      <th>1959-01-02</th>\n",
       "      <td>32</td>\n",
       "    </tr>\n",
       "    <tr>\n",
       "      <th>1959-01-03</th>\n",
       "      <td>30</td>\n",
       "    </tr>\n",
       "    <tr>\n",
       "      <th>1959-01-04</th>\n",
       "      <td>31</td>\n",
       "    </tr>\n",
       "    <tr>\n",
       "      <th>1959-01-05</th>\n",
       "      <td>44</td>\n",
       "    </tr>\n",
       "    <tr>\n",
       "      <th>...</th>\n",
       "      <td>...</td>\n",
       "    </tr>\n",
       "    <tr>\n",
       "      <th>1959-12-27</th>\n",
       "      <td>37</td>\n",
       "    </tr>\n",
       "    <tr>\n",
       "      <th>1959-12-28</th>\n",
       "      <td>52</td>\n",
       "    </tr>\n",
       "    <tr>\n",
       "      <th>1959-12-29</th>\n",
       "      <td>48</td>\n",
       "    </tr>\n",
       "    <tr>\n",
       "      <th>1959-12-30</th>\n",
       "      <td>55</td>\n",
       "    </tr>\n",
       "    <tr>\n",
       "      <th>1959-12-31</th>\n",
       "      <td>50</td>\n",
       "    </tr>\n",
       "  </tbody>\n",
       "</table>\n",
       "<p>365 rows × 1 columns</p>\n",
       "</div>"
      ],
      "text/plain": [
       "            Births\n",
       "Date              \n",
       "1959-01-01      35\n",
       "1959-01-02      32\n",
       "1959-01-03      30\n",
       "1959-01-04      31\n",
       "1959-01-05      44\n",
       "...            ...\n",
       "1959-12-27      37\n",
       "1959-12-28      52\n",
       "1959-12-29      48\n",
       "1959-12-30      55\n",
       "1959-12-31      50\n",
       "\n",
       "[365 rows x 1 columns]"
      ]
     },
     "execution_count": 18,
     "metadata": {},
     "output_type": "execute_result"
    }
   ],
   "source": [
    "df.groupby(['Date'], sort=False) [['Births']].mean()"
   ]
  },
  {
   "cell_type": "code",
   "execution_count": 64,
   "id": "ae6c2550",
   "metadata": {},
   "outputs": [
    {
     "name": "stdout",
     "output_type": "stream",
     "text": [
      "           Date  Births\n",
      "4    1959-01-05      44\n",
      "6    1959-01-07      45\n",
      "7    1959-01-08      43\n",
      "12   1959-01-13      55\n",
      "13   1959-01-14      47\n",
      "..          ...     ...\n",
      "358  1959-12-25      44\n",
      "361  1959-12-28      52\n",
      "362  1959-12-29      48\n",
      "363  1959-12-30      55\n",
      "364  1959-12-31      50\n",
      "\n",
      "[208 rows x 2 columns]\n"
     ]
    }
   ],
   "source": [
    "# Calculate dates with Births greater than 40\n",
    "df_sub = df[ df['Births'] > 40]\n",
    "print(df_sub)"
   ]
  },
  {
   "cell_type": "code",
   "execution_count": 65,
   "id": "b6a32265",
   "metadata": {},
   "outputs": [
    {
     "name": "stdout",
     "output_type": "stream",
     "text": [
      "           Date  Births\n",
      "13   1959-01-14      47\n",
      "46   1959-02-16      47\n",
      "92   1959-04-03      47\n",
      "125  1959-05-06      47\n",
      "173  1959-06-23      47\n",
      "191  1959-07-11      47\n",
      "201  1959-07-21      47\n",
      "209  1959-07-29      47\n",
      "270  1959-09-28      47\n",
      "276  1959-10-04      47\n",
      "294  1959-10-22      47\n",
      "322  1959-11-19      47\n",
      "348  1959-12-15      47\n"
     ]
    }
   ],
   "source": [
    "# Calculate dates with Births equal to 47\n",
    "df_o = df[ df['Births'] == 47 ]\n",
    "print(df_o)"
   ]
  },
  {
   "cell_type": "code",
   "execution_count": 24,
   "id": "f9c18b5a",
   "metadata": {},
   "outputs": [
    {
     "data": {
      "text/plain": [
       "0      35\n",
       "1      32\n",
       "2      30\n",
       "3      31\n",
       "4      44\n",
       "       ..\n",
       "360    37\n",
       "361    52\n",
       "362    48\n",
       "363    55\n",
       "364    50\n",
       "Name: Births, Length: 365, dtype: int64"
      ]
     },
     "execution_count": 24,
     "metadata": {},
     "output_type": "execute_result"
    }
   ],
   "source": [
    "df['Births']"
   ]
  },
  {
   "cell_type": "code",
   "execution_count": 25,
   "id": "79ebc0ac",
   "metadata": {},
   "outputs": [
    {
     "data": {
      "text/html": [
       "<div>\n",
       "<style scoped>\n",
       "    .dataframe tbody tr th:only-of-type {\n",
       "        vertical-align: middle;\n",
       "    }\n",
       "\n",
       "    .dataframe tbody tr th {\n",
       "        vertical-align: top;\n",
       "    }\n",
       "\n",
       "    .dataframe thead th {\n",
       "        text-align: right;\n",
       "    }\n",
       "</style>\n",
       "<table border=\"1\" class=\"dataframe\">\n",
       "  <thead>\n",
       "    <tr style=\"text-align: right;\">\n",
       "      <th></th>\n",
       "      <th>Date</th>\n",
       "      <th>Births</th>\n",
       "    </tr>\n",
       "  </thead>\n",
       "  <tbody>\n",
       "    <tr>\n",
       "      <th>10</th>\n",
       "      <td>1959-01-11</td>\n",
       "      <td>38</td>\n",
       "    </tr>\n",
       "    <tr>\n",
       "      <th>11</th>\n",
       "      <td>1959-01-12</td>\n",
       "      <td>33</td>\n",
       "    </tr>\n",
       "    <tr>\n",
       "      <th>12</th>\n",
       "      <td>1959-01-13</td>\n",
       "      <td>55</td>\n",
       "    </tr>\n",
       "    <tr>\n",
       "      <th>13</th>\n",
       "      <td>1959-01-14</td>\n",
       "      <td>47</td>\n",
       "    </tr>\n",
       "    <tr>\n",
       "      <th>14</th>\n",
       "      <td>1959-01-15</td>\n",
       "      <td>45</td>\n",
       "    </tr>\n",
       "    <tr>\n",
       "      <th>15</th>\n",
       "      <td>1959-01-16</td>\n",
       "      <td>37</td>\n",
       "    </tr>\n",
       "    <tr>\n",
       "      <th>16</th>\n",
       "      <td>1959-01-17</td>\n",
       "      <td>50</td>\n",
       "    </tr>\n",
       "    <tr>\n",
       "      <th>17</th>\n",
       "      <td>1959-01-18</td>\n",
       "      <td>43</td>\n",
       "    </tr>\n",
       "    <tr>\n",
       "      <th>18</th>\n",
       "      <td>1959-01-19</td>\n",
       "      <td>41</td>\n",
       "    </tr>\n",
       "    <tr>\n",
       "      <th>19</th>\n",
       "      <td>1959-01-20</td>\n",
       "      <td>52</td>\n",
       "    </tr>\n",
       "  </tbody>\n",
       "</table>\n",
       "</div>"
      ],
      "text/plain": [
       "          Date  Births\n",
       "10  1959-01-11      38\n",
       "11  1959-01-12      33\n",
       "12  1959-01-13      55\n",
       "13  1959-01-14      47\n",
       "14  1959-01-15      45\n",
       "15  1959-01-16      37\n",
       "16  1959-01-17      50\n",
       "17  1959-01-18      43\n",
       "18  1959-01-19      41\n",
       "19  1959-01-20      52"
      ]
     },
     "execution_count": 25,
     "metadata": {},
     "output_type": "execute_result"
    }
   ],
   "source": [
    "df[10:20] # Select rows by their position"
   ]
  },
  {
   "cell_type": "code",
   "execution_count": 27,
   "id": "5d4007a7",
   "metadata": {},
   "outputs": [
    {
     "data": {
      "text/html": [
       "<div>\n",
       "<style scoped>\n",
       "    .dataframe tbody tr th:only-of-type {\n",
       "        vertical-align: middle;\n",
       "    }\n",
       "\n",
       "    .dataframe tbody tr th {\n",
       "        vertical-align: top;\n",
       "    }\n",
       "\n",
       "    .dataframe thead th {\n",
       "        text-align: right;\n",
       "    }\n",
       "</style>\n",
       "<table border=\"1\" class=\"dataframe\">\n",
       "  <thead>\n",
       "    <tr style=\"text-align: right;\">\n",
       "      <th></th>\n",
       "      <th>Births</th>\n",
       "    </tr>\n",
       "  </thead>\n",
       "  <tbody>\n",
       "    <tr>\n",
       "      <th>12</th>\n",
       "      <td>55</td>\n",
       "    </tr>\n",
       "    <tr>\n",
       "      <th>13</th>\n",
       "      <td>47</td>\n",
       "    </tr>\n",
       "    <tr>\n",
       "      <th>14</th>\n",
       "      <td>45</td>\n",
       "    </tr>\n",
       "    <tr>\n",
       "      <th>16</th>\n",
       "      <td>50</td>\n",
       "    </tr>\n",
       "    <tr>\n",
       "      <th>17</th>\n",
       "      <td>43</td>\n",
       "    </tr>\n",
       "    <tr>\n",
       "      <th>18</th>\n",
       "      <td>41</td>\n",
       "    </tr>\n",
       "    <tr>\n",
       "      <th>19</th>\n",
       "      <td>52</td>\n",
       "    </tr>\n",
       "  </tbody>\n",
       "</table>\n",
       "</div>"
      ],
      "text/plain": [
       "    Births\n",
       "12      55\n",
       "13      47\n",
       "14      45\n",
       "16      50\n",
       "17      43\n",
       "18      41\n",
       "19      52"
      ]
     },
     "execution_count": 27,
     "metadata": {},
     "output_type": "execute_result"
    }
   ],
   "source": [
    "df_sub.loc[10:20, ['Births']] # Select rows by their labels"
   ]
  },
  {
   "cell_type": "code",
   "execution_count": 29,
   "id": "92d495d4",
   "metadata": {},
   "outputs": [
    {
     "data": {
      "text/plain": [
       "Date      1959-01-05\n",
       "Births            44\n",
       "Name: 4, dtype: object"
      ]
     },
     "execution_count": 29,
     "metadata": {},
     "output_type": "execute_result"
    }
   ],
   "source": [
    "df_sub.iloc[0] # Select rows by their labels"
   ]
  },
  {
   "cell_type": "code",
   "execution_count": 31,
   "id": "e5ec23a8",
   "metadata": {},
   "outputs": [
    {
     "data": {
      "text/plain": [
       "Date      1959-12-31\n",
       "Births            50\n",
       "Name: 364, dtype: object"
      ]
     },
     "execution_count": 31,
     "metadata": {},
     "output_type": "execute_result"
    }
   ],
   "source": [
    "df.iloc[-1] # First row of data frame"
   ]
  },
  {
   "cell_type": "code",
   "execution_count": 32,
   "id": "5603d2e3",
   "metadata": {},
   "outputs": [
    {
     "data": {
      "text/plain": [
       "0      1959-01-01\n",
       "1      1959-01-02\n",
       "2      1959-01-03\n",
       "3      1959-01-04\n",
       "4      1959-01-05\n",
       "          ...    \n",
       "360    1959-12-27\n",
       "361    1959-12-28\n",
       "362    1959-12-29\n",
       "363    1959-12-30\n",
       "364    1959-12-31\n",
       "Name: Date, Length: 365, dtype: object"
      ]
     },
     "execution_count": 32,
     "metadata": {},
     "output_type": "execute_result"
    }
   ],
   "source": [
    "df.iloc[:, 0] # First column of data frame"
   ]
  },
  {
   "cell_type": "code",
   "execution_count": 33,
   "id": "e2c52d02",
   "metadata": {},
   "outputs": [
    {
     "data": {
      "text/plain": [
       "0      35\n",
       "1      32\n",
       "2      30\n",
       "3      31\n",
       "4      44\n",
       "       ..\n",
       "360    37\n",
       "361    52\n",
       "362    48\n",
       "363    55\n",
       "364    50\n",
       "Name: Births, Length: 365, dtype: int64"
      ]
     },
     "execution_count": 33,
     "metadata": {},
     "output_type": "execute_result"
    }
   ],
   "source": [
    "df.iloc[:, -1] # Last column of data frame"
   ]
  },
  {
   "cell_type": "code",
   "execution_count": 34,
   "id": "bc459f70",
   "metadata": {},
   "outputs": [
    {
     "data": {
      "text/html": [
       "<div>\n",
       "<style scoped>\n",
       "    .dataframe tbody tr th:only-of-type {\n",
       "        vertical-align: middle;\n",
       "    }\n",
       "\n",
       "    .dataframe tbody tr th {\n",
       "        vertical-align: top;\n",
       "    }\n",
       "\n",
       "    .dataframe thead th {\n",
       "        text-align: right;\n",
       "    }\n",
       "</style>\n",
       "<table border=\"1\" class=\"dataframe\">\n",
       "  <thead>\n",
       "    <tr style=\"text-align: right;\">\n",
       "      <th></th>\n",
       "      <th>Date</th>\n",
       "      <th>Births</th>\n",
       "    </tr>\n",
       "  </thead>\n",
       "  <tbody>\n",
       "    <tr>\n",
       "      <th>0</th>\n",
       "      <td>1959-01-01</td>\n",
       "      <td>35</td>\n",
       "    </tr>\n",
       "    <tr>\n",
       "      <th>1</th>\n",
       "      <td>1959-01-02</td>\n",
       "      <td>32</td>\n",
       "    </tr>\n",
       "    <tr>\n",
       "      <th>2</th>\n",
       "      <td>1959-01-03</td>\n",
       "      <td>30</td>\n",
       "    </tr>\n",
       "    <tr>\n",
       "      <th>3</th>\n",
       "      <td>1959-01-04</td>\n",
       "      <td>31</td>\n",
       "    </tr>\n",
       "    <tr>\n",
       "      <th>4</th>\n",
       "      <td>1959-01-05</td>\n",
       "      <td>44</td>\n",
       "    </tr>\n",
       "    <tr>\n",
       "      <th>5</th>\n",
       "      <td>1959-01-06</td>\n",
       "      <td>29</td>\n",
       "    </tr>\n",
       "    <tr>\n",
       "      <th>6</th>\n",
       "      <td>1959-01-07</td>\n",
       "      <td>45</td>\n",
       "    </tr>\n",
       "  </tbody>\n",
       "</table>\n",
       "</div>"
      ],
      "text/plain": [
       "         Date  Births\n",
       "0  1959-01-01      35\n",
       "1  1959-01-02      32\n",
       "2  1959-01-03      30\n",
       "3  1959-01-04      31\n",
       "4  1959-01-05      44\n",
       "5  1959-01-06      29\n",
       "6  1959-01-07      45"
      ]
     },
     "execution_count": 34,
     "metadata": {},
     "output_type": "execute_result"
    }
   ],
   "source": [
    "df.iloc[0:7] # First 7 rows of data frame"
   ]
  },
  {
   "cell_type": "code",
   "execution_count": 35,
   "id": "1ba10717",
   "metadata": {},
   "outputs": [
    {
     "data": {
      "text/html": [
       "<div>\n",
       "<style scoped>\n",
       "    .dataframe tbody tr th:only-of-type {\n",
       "        vertical-align: middle;\n",
       "    }\n",
       "\n",
       "    .dataframe tbody tr th {\n",
       "        vertical-align: top;\n",
       "    }\n",
       "\n",
       "    .dataframe thead th {\n",
       "        text-align: right;\n",
       "    }\n",
       "</style>\n",
       "<table border=\"1\" class=\"dataframe\">\n",
       "  <thead>\n",
       "    <tr style=\"text-align: right;\">\n",
       "      <th></th>\n",
       "      <th>Date</th>\n",
       "      <th>Births</th>\n",
       "    </tr>\n",
       "  </thead>\n",
       "  <tbody>\n",
       "    <tr>\n",
       "      <th>0</th>\n",
       "      <td>1959-01-01</td>\n",
       "      <td>35</td>\n",
       "    </tr>\n",
       "    <tr>\n",
       "      <th>1</th>\n",
       "      <td>1959-01-02</td>\n",
       "      <td>32</td>\n",
       "    </tr>\n",
       "    <tr>\n",
       "      <th>2</th>\n",
       "      <td>1959-01-03</td>\n",
       "      <td>30</td>\n",
       "    </tr>\n",
       "    <tr>\n",
       "      <th>3</th>\n",
       "      <td>1959-01-04</td>\n",
       "      <td>31</td>\n",
       "    </tr>\n",
       "    <tr>\n",
       "      <th>4</th>\n",
       "      <td>1959-01-05</td>\n",
       "      <td>44</td>\n",
       "    </tr>\n",
       "    <tr>\n",
       "      <th>...</th>\n",
       "      <td>...</td>\n",
       "      <td>...</td>\n",
       "    </tr>\n",
       "    <tr>\n",
       "      <th>360</th>\n",
       "      <td>1959-12-27</td>\n",
       "      <td>37</td>\n",
       "    </tr>\n",
       "    <tr>\n",
       "      <th>361</th>\n",
       "      <td>1959-12-28</td>\n",
       "      <td>52</td>\n",
       "    </tr>\n",
       "    <tr>\n",
       "      <th>362</th>\n",
       "      <td>1959-12-29</td>\n",
       "      <td>48</td>\n",
       "    </tr>\n",
       "    <tr>\n",
       "      <th>363</th>\n",
       "      <td>1959-12-30</td>\n",
       "      <td>55</td>\n",
       "    </tr>\n",
       "    <tr>\n",
       "      <th>364</th>\n",
       "      <td>1959-12-31</td>\n",
       "      <td>50</td>\n",
       "    </tr>\n",
       "  </tbody>\n",
       "</table>\n",
       "<p>365 rows × 2 columns</p>\n",
       "</div>"
      ],
      "text/plain": [
       "           Date  Births\n",
       "0    1959-01-01      35\n",
       "1    1959-01-02      32\n",
       "2    1959-01-03      30\n",
       "3    1959-01-04      31\n",
       "4    1959-01-05      44\n",
       "..          ...     ...\n",
       "360  1959-12-27      37\n",
       "361  1959-12-28      52\n",
       "362  1959-12-29      48\n",
       "363  1959-12-30      55\n",
       "364  1959-12-31      50\n",
       "\n",
       "[365 rows x 2 columns]"
      ]
     },
     "execution_count": 35,
     "metadata": {},
     "output_type": "execute_result"
    }
   ],
   "source": [
    "df.iloc[:, 0:2]"
   ]
  },
  {
   "cell_type": "code",
   "execution_count": 36,
   "id": "15699f91",
   "metadata": {},
   "outputs": [
    {
     "data": {
      "text/html": [
       "<div>\n",
       "<style scoped>\n",
       "    .dataframe tbody tr th:only-of-type {\n",
       "        vertical-align: middle;\n",
       "    }\n",
       "\n",
       "    .dataframe tbody tr th {\n",
       "        vertical-align: top;\n",
       "    }\n",
       "\n",
       "    .dataframe thead th {\n",
       "        text-align: right;\n",
       "    }\n",
       "</style>\n",
       "<table border=\"1\" class=\"dataframe\">\n",
       "  <thead>\n",
       "    <tr style=\"text-align: right;\">\n",
       "      <th></th>\n",
       "      <th>Date</th>\n",
       "      <th>Births</th>\n",
       "    </tr>\n",
       "  </thead>\n",
       "  <tbody>\n",
       "    <tr>\n",
       "      <th>1</th>\n",
       "      <td>1959-01-02</td>\n",
       "      <td>32</td>\n",
       "    </tr>\n",
       "    <tr>\n",
       "      <th>2</th>\n",
       "      <td>1959-01-03</td>\n",
       "      <td>30</td>\n",
       "    </tr>\n",
       "  </tbody>\n",
       "</table>\n",
       "</div>"
      ],
      "text/plain": [
       "         Date  Births\n",
       "1  1959-01-02      32\n",
       "2  1959-01-03      30"
      ]
     },
     "execution_count": 36,
     "metadata": {},
     "output_type": "execute_result"
    }
   ],
   "source": [
    "df.iloc[1:3, 0:2] # Second through third rows and first 2 columns"
   ]
  },
  {
   "cell_type": "code",
   "execution_count": 38,
   "id": "a01bc569",
   "metadata": {},
   "outputs": [
    {
     "data": {
      "text/html": [
       "<div>\n",
       "<style scoped>\n",
       "    .dataframe tbody tr th:only-of-type {\n",
       "        vertical-align: middle;\n",
       "    }\n",
       "\n",
       "    .dataframe tbody tr th {\n",
       "        vertical-align: top;\n",
       "    }\n",
       "\n",
       "    .dataframe thead th {\n",
       "        text-align: right;\n",
       "    }\n",
       "</style>\n",
       "<table border=\"1\" class=\"dataframe\">\n",
       "  <thead>\n",
       "    <tr style=\"text-align: right;\">\n",
       "      <th></th>\n",
       "      <th>Date</th>\n",
       "      <th>Births</th>\n",
       "    </tr>\n",
       "  </thead>\n",
       "  <tbody>\n",
       "    <tr>\n",
       "      <th>31</th>\n",
       "      <td>1959-02-01</td>\n",
       "      <td>23</td>\n",
       "    </tr>\n",
       "    <tr>\n",
       "      <th>136</th>\n",
       "      <td>1959-05-17</td>\n",
       "      <td>24</td>\n",
       "    </tr>\n",
       "    <tr>\n",
       "      <th>30</th>\n",
       "      <td>1959-01-31</td>\n",
       "      <td>24</td>\n",
       "    </tr>\n",
       "    <tr>\n",
       "      <th>192</th>\n",
       "      <td>1959-07-12</td>\n",
       "      <td>26</td>\n",
       "    </tr>\n",
       "    <tr>\n",
       "      <th>73</th>\n",
       "      <td>1959-03-15</td>\n",
       "      <td>27</td>\n",
       "    </tr>\n",
       "  </tbody>\n",
       "</table>\n",
       "</div>"
      ],
      "text/plain": [
       "           Date  Births\n",
       "31   1959-02-01      23\n",
       "136  1959-05-17      24\n",
       "30   1959-01-31      24\n",
       "192  1959-07-12      26\n",
       "73   1959-03-15      27"
      ]
     },
     "execution_count": 38,
     "metadata": {},
     "output_type": "execute_result"
    }
   ],
   "source": [
    "# Created a new data frame from the original, sorted by the \"Births\" column\n",
    "df_sorted = df.sort_values( by ='Births')\n",
    "df_sorted.head() # View first five values of the sorted data frame"
   ]
  },
  {
   "cell_type": "code",
   "execution_count": 39,
   "id": "602bda17",
   "metadata": {},
   "outputs": [
    {
     "data": {
      "text/html": [
       "<div>\n",
       "<style scoped>\n",
       "    .dataframe tbody tr th:only-of-type {\n",
       "        vertical-align: middle;\n",
       "    }\n",
       "\n",
       "    .dataframe tbody tr th {\n",
       "        vertical-align: top;\n",
       "    }\n",
       "\n",
       "    .dataframe thead th {\n",
       "        text-align: right;\n",
       "    }\n",
       "</style>\n",
       "<table border=\"1\" class=\"dataframe\">\n",
       "  <thead>\n",
       "    <tr style=\"text-align: right;\">\n",
       "      <th></th>\n",
       "      <th>Date</th>\n",
       "      <th>Births</th>\n",
       "    </tr>\n",
       "  </thead>\n",
       "  <tbody>\n",
       "    <tr>\n",
       "      <th>31</th>\n",
       "      <td>1959-02-01</td>\n",
       "      <td>23</td>\n",
       "    </tr>\n",
       "    <tr>\n",
       "      <th>136</th>\n",
       "      <td>1959-05-17</td>\n",
       "      <td>24</td>\n",
       "    </tr>\n",
       "  </tbody>\n",
       "</table>\n",
       "</div>"
      ],
      "text/plain": [
       "           Date  Births\n",
       "31   1959-02-01      23\n",
       "136  1959-05-17      24"
      ]
     },
     "execution_count": 39,
     "metadata": {},
     "output_type": "execute_result"
    }
   ],
   "source": [
    "df_sorted1 = df.sort_values( by ='Births')\n",
    "df_sorted1.head(2) # View first two values of the sorted data frame"
   ]
  },
  {
   "cell_type": "code",
   "execution_count": 67,
   "id": "5670f63d",
   "metadata": {},
   "outputs": [
    {
     "data": {
      "text/html": [
       "<div>\n",
       "<style scoped>\n",
       "    .dataframe tbody tr th:only-of-type {\n",
       "        vertical-align: middle;\n",
       "    }\n",
       "\n",
       "    .dataframe tbody tr th {\n",
       "        vertical-align: top;\n",
       "    }\n",
       "\n",
       "    .dataframe thead th {\n",
       "        text-align: right;\n",
       "    }\n",
       "</style>\n",
       "<table border=\"1\" class=\"dataframe\">\n",
       "  <thead>\n",
       "    <tr style=\"text-align: right;\">\n",
       "      <th></th>\n",
       "      <th>Date</th>\n",
       "      <th>Births</th>\n",
       "    </tr>\n",
       "  </thead>\n",
       "  <tbody>\n",
       "  </tbody>\n",
       "</table>\n",
       "</div>"
      ],
      "text/plain": [
       "Empty DataFrame\n",
       "Columns: [Date, Births]\n",
       "Index: []"
      ]
     },
     "execution_count": 67,
     "metadata": {},
     "output_type": "execute_result"
    }
   ],
   "source": [
    "df[df.isnull().any(axis=1)].head() # Selecting rows as missing values\n",
    "\n",
    "\n",
    "# Note: The output is blank for this as there are no missing values\n",
    "# in the current dataset."
   ]
  },
  {
   "cell_type": "code",
   "execution_count": 59,
   "id": "e286f079",
   "metadata": {},
   "outputs": [
    {
     "data": {
      "text/html": [
       "<div>\n",
       "<style scoped>\n",
       "    .dataframe tbody tr th:only-of-type {\n",
       "        vertical-align: middle;\n",
       "    }\n",
       "\n",
       "    .dataframe tbody tr th {\n",
       "        vertical-align: top;\n",
       "    }\n",
       "\n",
       "    .dataframe thead th {\n",
       "        text-align: right;\n",
       "    }\n",
       "</style>\n",
       "<table border=\"1\" class=\"dataframe\">\n",
       "  <thead>\n",
       "    <tr style=\"text-align: right;\">\n",
       "      <th></th>\n",
       "      <th>Births</th>\n",
       "    </tr>\n",
       "  </thead>\n",
       "  <tbody>\n",
       "    <tr>\n",
       "      <th>min</th>\n",
       "      <td>23.000000</td>\n",
       "    </tr>\n",
       "    <tr>\n",
       "      <th>max</th>\n",
       "      <td>73.000000</td>\n",
       "    </tr>\n",
       "    <tr>\n",
       "      <th>mean</th>\n",
       "      <td>41.980822</td>\n",
       "    </tr>\n",
       "    <tr>\n",
       "      <th>median</th>\n",
       "      <td>42.000000</td>\n",
       "    </tr>\n",
       "    <tr>\n",
       "      <th>skew</th>\n",
       "      <td>0.447389</td>\n",
       "    </tr>\n",
       "  </tbody>\n",
       "</table>\n",
       "</div>"
      ],
      "text/plain": [
       "           Births\n",
       "min     23.000000\n",
       "max     73.000000\n",
       "mean    41.980822\n",
       "median  42.000000\n",
       "skew     0.447389"
      ]
     },
     "execution_count": 59,
     "metadata": {},
     "output_type": "execute_result"
    }
   ],
   "source": [
    "df[['Births']].agg(['min', 'max', 'mean', 'median', 'skew'])"
   ]
  },
  {
   "cell_type": "markdown",
   "id": "943a8ba6",
   "metadata": {},
   "source": [
    "**Plotting the data**"
   ]
  },
  {
   "cell_type": "code",
   "execution_count": 47,
   "id": "5db42c80",
   "metadata": {},
   "outputs": [],
   "source": [
    "%matplotlib inline"
   ]
  },
  {
   "cell_type": "code",
   "execution_count": 48,
   "id": "287c03b6",
   "metadata": {},
   "outputs": [],
   "source": [
    "import matplotlib.pyplot as plt"
   ]
  },
  {
   "cell_type": "code",
   "execution_count": 50,
   "id": "19b9c537",
   "metadata": {},
   "outputs": [],
   "source": [
    "plt.style.use('seaborn-whitegrid')"
   ]
  },
  {
   "cell_type": "code",
   "execution_count": 51,
   "id": "7dfabdab",
   "metadata": {},
   "outputs": [],
   "source": [
    "import numpy as np"
   ]
  },
  {
   "cell_type": "code",
   "execution_count": 52,
   "id": "aa71807e",
   "metadata": {},
   "outputs": [
    {
     "data": {
      "text/plain": [
       "<Figure size 432x288 with 0 Axes>"
      ]
     },
     "metadata": {},
     "output_type": "display_data"
    }
   ],
   "source": [
    "fig = plt.figure()"
   ]
  },
  {
   "cell_type": "code",
   "execution_count": 53,
   "id": "6b9bd42a",
   "metadata": {},
   "outputs": [
    {
     "data": {
      "image/png": "[encoded data removed]",
      "text/plain": [
       "<Figure size 432x288 with 1 Axes>"
      ]
     },
     "metadata": {},
     "output_type": "display_data"
    }
   ],
   "source": [
    "ax=plt.axes()"
   ]
  },
  {
   "cell_type": "code",
   "execution_count": 57,
   "id": "1dfd58f2",
   "metadata": {},
   "outputs": [
    {
     "data": {
      "text/plain": [
       "[<matplotlib.lines.Line2D at 0x1d3be0f24f0>]"
      ]
     },
     "execution_count": 57,
     "metadata": {},
     "output_type": "execute_result"
    },
    {
     "data": {
      "image/png": "[encoded data removed]",
      "text/plain": [
       "<Figure size 432x288 with 1 Axes>"
      ]
     },
     "metadata": {},
     "output_type": "display_data"
    }
   ],
   "source": [
    "plt.plot(df['Date'], df['Births'])"
   ]
  },
  {
   "cell_type": "code",
   "execution_count": 58,
   "id": "eb48cabf",
   "metadata": {},
   "outputs": [
    {
     "data": {
      "text/plain": [
       "Text(0.5, 1.0, 'Daily Total Female Births')"
      ]
     },
     "execution_count": 58,
     "metadata": {},
     "output_type": "execute_result"
    },
    {
     "data": {
      "image/png": "[encoded data removed]",
      "text/plain": [
       "<Figure size 432x288 with 1 Axes>"
      ]
     },
     "metadata": {},
     "output_type": "display_data"
    }
   ],
   "source": [
    "plt.plot(df['Date'], df['Births'])\n",
    "plt.xlabel(\"Date\")\n",
    "plt.ylabel(\"Births\")\n",
    "plt.title(\"Daily Total Female Births\")"
   ]
  }
 ],
 "metadata": {
  "kernelspec": {
   "display_name": "Python 3",
   "language": "python",
   "name": "python3"
  },
  "language_info": {
   "codemirror_mode": {
    "name": "ipython",
    "version": 3
   },
   "file_extension": ".py",
   "mimetype": "text/x-python",
   "name": "python",
   "nbconvert_exporter": "python",
   "pygments_lexer": "ipython3",
   "version": "3.8.8"
  }
 },
 "nbformat": 4,
 "nbformat_minor": 5
}
