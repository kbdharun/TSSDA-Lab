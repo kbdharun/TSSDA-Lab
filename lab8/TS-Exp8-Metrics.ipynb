{
 "cells": [
  {
   "cell_type": "markdown",
   "id": "0f2c5728",
   "metadata": {},
   "source": [
    "# Forecast Error"
   ]
  },
  {
   "cell_type": "code",
   "execution_count": 2,
   "id": "d22b9ea3",
   "metadata": {},
   "outputs": [
    {
     "name": "stdout",
     "output_type": "stream",
     "text": [
      "Forecast Errors: [-0.2, 0.09999999999999998, -0.1, -0.09999999999999998, -0.2]\n"
     ]
    }
   ],
   "source": [
    "expected = [0.0, 0.5, 0.0, 0.5, 0.0]\n",
    "predictions = [0.2, 0.4, 0.1, 0.6, 0.2]\n",
    "forecast_errors = [expected[i]-predictions[i] for i in range(len(expected))]\n",
    "print('Forecast Errors: %s' % forecast_errors)"
   ]
  },
  {
   "cell_type": "markdown",
   "id": "acfbd899",
   "metadata": {},
   "source": [
    "# Mean Forecast Error (aka Forecast Bias)"
   ]
  },
  {
   "cell_type": "code",
   "execution_count": 3,
   "id": "2e2fc20e",
   "metadata": {},
   "outputs": [
    {
     "name": "stdout",
     "output_type": "stream",
     "text": [
      "Bias: -0.100000\n"
     ]
    }
   ],
   "source": [
    "expected = [0.0, 0.5, 0.0, 0.5, 0.0]\n",
    "predictions = [0.2, 0.4, 0.1, 0.6, 0.2]\n",
    "forecast_errors = [expected[i]-predictions[i] for i in range(len(expected))]\n",
    "bias = sum(forecast_errors) * 1.0/len(expected)\n",
    "print('Bias: %f' % bias)"
   ]
  },
  {
   "cell_type": "markdown",
   "id": "f5044a45",
   "metadata": {},
   "source": [
    "# Mean Absolute Error"
   ]
  },
  {
   "cell_type": "code",
   "execution_count": 5,
   "id": "813db72a",
   "metadata": {},
   "outputs": [
    {
     "name": "stdout",
     "output_type": "stream",
     "text": [
      "MAE: 0.140000\n"
     ]
    }
   ],
   "source": [
    "from sklearn.metrics import mean_absolute_error\n",
    "expected = [0.0, 0.5, 0.0, 0.5, 0.0]\n",
    "predictions = [0.2, 0.4, 0.1, 0.6, 0.2]\n",
    "mae = mean_absolute_error(expected, predictions)\n",
    "print('MAE: %f' % mae)"
   ]
  },
  {
   "cell_type": "markdown",
   "id": "218c3ac7",
   "metadata": {},
   "source": [
    "# Mean Squared Error"
   ]
  },
  {
   "cell_type": "code",
   "execution_count": 6,
   "id": "3dc3bf0d",
   "metadata": {},
   "outputs": [
    {
     "name": "stdout",
     "output_type": "stream",
     "text": [
      "MSE: 0.022000\n"
     ]
    }
   ],
   "source": [
    "from sklearn.metrics import mean_squared_error\n",
    "expected = [0.0, 0.5, 0.0, 0.5, 0.0]\n",
    "predictions = [0.2, 0.4, 0.1, 0.6, 0.2]\n",
    "mse = mean_squared_error(expected, predictions)\n",
    "print('MSE: %f' % mse)"
   ]
  },
  {
   "cell_type": "markdown",
   "id": "8bda1c61",
   "metadata": {},
   "source": [
    "# Root Mean Squared Error"
   ]
  },
  {
   "cell_type": "code",
   "execution_count": 7,
   "id": "056087d5",
   "metadata": {},
   "outputs": [
    {
     "name": "stdout",
     "output_type": "stream",
     "text": [
      "RMSE: 0.148324\n"
     ]
    }
   ],
   "source": [
    "from sklearn.metrics import mean_squared_error\n",
    "from math import sqrt\n",
    "expected = [0.0, 0.5, 0.0, 0.5, 0.0]\n",
    "predictions = [0.2, 0.4, 0.1, 0.6, 0.2]\n",
    "mse = mean_squared_error(expected, predictions)\n",
    "rmse = sqrt(mse)\n",
    "print('RMSE: %f' % rmse)"
   ]
  }
 ],
 "metadata": {
  "kernelspec": {
   "display_name": "Python 3",
   "language": "python",
   "name": "python3"
  },
  "language_info": {
   "codemirror_mode": {
    "name": "ipython",
    "version": 3
   },
   "file_extension": ".py",
   "mimetype": "text/x-python",
   "name": "python",
   "nbconvert_exporter": "python",
   "pygments_lexer": "ipython3",
   "version": "3.8.8"
  }
 },
 "nbformat": 4,
 "nbformat_minor": 5
}
