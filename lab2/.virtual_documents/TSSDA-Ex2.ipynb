








# Importing required packages
import matplotlib.pyplot as plt
import pandas as pd

from datetime import datetime





df = pd.read_csv("daily-min-temperatures.csv", index_col=0) # Reading the dataset


df.head() # View the first 5 rows


df.shape # Viewing no. of rows and columns


df.describe() # Summary statistics


df.isnull().sum() # Checking datatypes





df.hist() # Plot a histogram
plt.title("Frequency of Temperature") # Set title

# Set labels
plt.xlabel("Temperature")
plt.ylabel("Frequency")
plt.show()





format = "%Y-%m-%d" # Set date format

# Initialize empty arrays
day = []
month = []
year = []
weekday = []
weekday_dict = {}

for d in df.index:
    x = datetime.strptime(d, format)
    day.append(x.day)
    month.append(x.month)
    year.append(x.year)
    weekday.append(x.weekday())
    if x.weekday() not in weekday_dict:
        weekday_dict[x.weekday()] = x.strftime("%A") 

# Set columns as seperate variables
df["Day"] = day
df["Month"] = month
df["Year"] = year
df["Weekday"] = weekday


df.head() # Viewing first 5 records


weekday_dict # Viewing dictionary object

# Additionally, implement a way to query historical data over time





# Creating a new DataFrame to avoid conflicts with existing one

series = pd.read_csv("daily-min-temperatures.csv", header=0, index_col=0) # Read dataset


series.head() # View 5 records


plt.plot(series)


temps = pd.DataFrame(series.values)
temps.head()


dataframe = pd.concat([temps.shift(3), temps.shift(2), temps.shift(1), temps], axis=1)
dataframe.columns = ['t-3', 't-2', 't-1', 't+1']
print(dataframe.head)


dataframe = pd.concat([temps.shift(1), temps], axis=1)
dataframe.columns = ['t-1', 't+1']
dataframe.head()





series = pd.read_csv("Daily-min-temperatures.csv", header=0, index_col=0) # Reread dataset
temps = pd.DataFrame(series.values)
shifted = temps.shift(1) # Shift series
window = shifted.rolling(window=3)
means = window.mean() # Calculating mean

dataframe = pd.concat([means, temps], axis=1) # Construct new dataset
dataframe.columns = ['mean(t-2,t-1)', 't+1']
dataframe.head() # Display 5 records





series = pd.read_csv('Daily-min-temperatures.csv', header=0, index_col=0) # Read dataset
temps = pd.DataFrame(series.values)

window = temps.expanding() # Expanding window
dataframe = pd.concat([window.min(), window.mean(), window.max(), temps.shift(-1)], axis=1) # Finding statistics
dataframe.columns = ['min', 'mean', 'max', 't+1'] #Specify columns to show
print(dataframe.head(5))
