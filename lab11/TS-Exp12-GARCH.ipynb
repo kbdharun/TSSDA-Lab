{
 "cells": [
  {
   "cell_type": "code",
   "execution_count": 6,
   "id": "a61ee7c5-16f7-4252-911f-6e8c93e7b92e",
   "metadata": {},
   "outputs": [],
   "source": [
    "# !pip install arch\n",
    "import pandas as pd\n",
    "from arch import arch_model"
   ]
  },
  {
   "cell_type": "code",
   "execution_count": 3,
   "id": "8d70aca5-721c-4947-a9d5-2381b41beeae",
   "metadata": {},
   "outputs": [
    {
     "data": {
      "text/html": [
       "<div>\n",
       "<style scoped>\n",
       "    .dataframe tbody tr th:only-of-type {\n",
       "        vertical-align: middle;\n",
       "    }\n",
       "\n",
       "    .dataframe tbody tr th {\n",
       "        vertical-align: top;\n",
       "    }\n",
       "\n",
       "    .dataframe thead th {\n",
       "        text-align: right;\n",
       "    }\n",
       "</style>\n",
       "<table border=\"1\" class=\"dataframe\">\n",
       "  <thead>\n",
       "    <tr style=\"text-align: right;\">\n",
       "      <th></th>\n",
       "      <th>Year</th>\n",
       "      <th>Month</th>\n",
       "      <th>Oklahoma Spot Price</th>\n",
       "      <th>Louisiana Spot Price</th>\n",
       "    </tr>\n",
       "  </thead>\n",
       "  <tbody>\n",
       "    <tr>\n",
       "      <th>0</th>\n",
       "      <td>1988</td>\n",
       "      <td>1</td>\n",
       "      <td>1.875</td>\n",
       "      <td>2.065</td>\n",
       "    </tr>\n",
       "    <tr>\n",
       "      <th>1</th>\n",
       "      <td>1988</td>\n",
       "      <td>2</td>\n",
       "      <td>1.898</td>\n",
       "      <td>1.988</td>\n",
       "    </tr>\n",
       "    <tr>\n",
       "      <th>2</th>\n",
       "      <td>1988</td>\n",
       "      <td>3</td>\n",
       "      <td>1.643</td>\n",
       "      <td>1.818</td>\n",
       "    </tr>\n",
       "    <tr>\n",
       "      <th>3</th>\n",
       "      <td>1988</td>\n",
       "      <td>4</td>\n",
       "      <td>1.332</td>\n",
       "      <td>1.493</td>\n",
       "    </tr>\n",
       "    <tr>\n",
       "      <th>4</th>\n",
       "      <td>1988</td>\n",
       "      <td>5</td>\n",
       "      <td>1.262</td>\n",
       "      <td>1.383</td>\n",
       "    </tr>\n",
       "  </tbody>\n",
       "</table>\n",
       "</div>"
      ],
      "text/plain": [
       "   Year  Month  Oklahoma Spot Price  Louisiana Spot Price\n",
       "0  1988      1                1.875                 2.065\n",
       "1  1988      2                1.898                 1.988\n",
       "2  1988      3                1.643                 1.818\n",
       "3  1988      4                1.332                 1.493\n",
       "4  1988      5                1.262                 1.383"
      ]
     },
     "execution_count": 3,
     "metadata": {},
     "output_type": "execute_result"
    }
   ],
   "source": [
    "df = pd.read_csv(\"data.csv\")\n",
    "df.head()"
   ]
  },
  {
   "cell_type": "code",
   "execution_count": 7,
   "id": "a5e4c7e2-34e3-4f0b-9676-abf3e5c24833",
   "metadata": {},
   "outputs": [],
   "source": [
    "# Set Year and Month as index\n",
    "df['Date'] = pd.to_datetime(df[['Year', 'Month']].assign(day=1))\n",
    "df.set_index('Date', inplace=True)"
   ]
  },
  {
   "cell_type": "code",
   "execution_count": 8,
   "id": "b1dad9c3-f78a-42e1-b5b7-39336d6dbd34",
   "metadata": {},
   "outputs": [],
   "source": [
    "# Select the variable you want to model (e.g., Oklahoma Spot Price)\n",
    "returns = df['Oklahoma Spot Price'].dropna()"
   ]
  },
  {
   "cell_type": "code",
   "execution_count": 14,
   "id": "1a7f386f-fd41-4d4f-9098-2a6e2aff349d",
   "metadata": {},
   "outputs": [
    {
     "name": "stdout",
     "output_type": "stream",
     "text": [
      "Iteration:      1,   Func. Count:      6,   Neg. LLF: 28934870.852135163\n",
      "Iteration:      2,   Func. Count:     13,   Neg. LLF: 290460456.4057696\n",
      "Iteration:      3,   Func. Count:     21,   Neg. LLF: 5.876991848978596\n",
      "Iteration:      4,   Func. Count:     27,   Neg. LLF: 2.2190285584327474\n",
      "Iteration:      5,   Func. Count:     32,   Neg. LLF: 2.2190119394385204\n",
      "Iteration:      6,   Func. Count:     37,   Neg. LLF: 2.2190101175021177\n",
      "Iteration:      7,   Func. Count:     42,   Neg. LLF: 2.219008939598648\n",
      "Iteration:      8,   Func. Count:     46,   Neg. LLF: 2.219008939617915\n",
      "Optimization terminated successfully    (Exit mode 0)\n",
      "            Current function value: 2.219008939598648\n",
      "            Iterations: 8\n",
      "            Function evaluations: 46\n",
      "            Gradient evaluations: 8\n",
      "                    Constant Mean - GJR-GARCH Model Results                    \n",
      "===============================================================================\n",
      "Dep. Variable:     Oklahoma Spot Price   R-squared:                       0.000\n",
      "Mean Model:              Constant Mean   Adj. R-squared:                  0.000\n",
      "Vol Model:                   GJR-GARCH   Log-Likelihood:               -2.21901\n",
      "Distribution:                   Normal   AIC:                           12.4380\n",
      "Method:             Maximum Likelihood   BIC:                           19.7526\n",
      "                                         No. Observations:                   46\n",
      "Date:                 Thu, Apr 04 2024   Df Residuals:                       45\n",
      "Time:                         10:28:22   Df Model:                            1\n",
      "                               Mean Model                               \n",
      "========================================================================\n",
      "                 coef    std err          t      P>|t|  95.0% Conf. Int.\n",
      "------------------------------------------------------------------------\n",
      "mu             1.4270  3.824e-02     37.318 8.228e-305 [  1.352,  1.502]\n",
      "                              Volatility Model                             \n",
      "===========================================================================\n",
      "                 coef    std err          t      P>|t|     95.0% Conf. Int.\n",
      "---------------------------------------------------------------------------\n",
      "omega          0.0166  4.332e-02      0.383      0.702 [-6.831e-02,  0.101]\n",
      "gamma[1]   1.3985e-17      0.207  6.745e-17      1.000    [ -0.406,  0.406]\n",
      "beta[1]        0.7292      0.606      1.203      0.229    [ -0.459,  1.917]\n",
      "===========================================================================\n",
      "\n",
      "Covariance estimator: robust\n"
     ]
    },
    {
     "name": "stderr",
     "output_type": "stream",
     "text": [
      "C:\\Users\\Admin\\AppData\\Local\\Programs\\Python\\Python310\\lib\\site-packages\\arch\\univariate\\base.py:311: DataScaleWarning: y is poorly scaled, which may affect convergence of the optimizer when\n",
      "estimating the model parameters. The scale of y is 0.06458. Parameter\n",
      "estimation work better when this value is between 1 and 1000. The recommended\n",
      "rescaling is 10 * y.\n",
      "\n",
      "This warning can be disabled by either rescaling y before initializing the\n",
      "model or by setting rescale=False.\n",
      "\n",
      "  warnings.warn(\n"
     ]
    }
   ],
   "source": [
    "# Specify the GARCH model\n",
    "model = arch_model(returns, vol='Garch', p=0, q=1, o=1)\n",
    "\n",
    "# Fit the model\n",
    "result = model.fit()\n",
    "\n",
    "# Display the model summary\n",
    "print(result.summary())"
   ]
  },
  {
   "cell_type": "code",
   "execution_count": 15,
   "id": "24842e5a-6c95-456e-9f9f-3eedf4f396c2",
   "metadata": {},
   "outputs": [
    {
     "name": "stdout",
     "output_type": "stream",
     "text": [
      "ARCH-LM Test\n",
      "H0: Residuals are homoskedastic.\n",
      "ARCH-LM Test\n",
      "H1: Residuals are conditionally heteroskedastic.\n",
      "Statistic: 6.5445\n",
      "P-value: 0.7676\n",
      "Distributed: chi2(10)\n"
     ]
    }
   ],
   "source": [
    "# Perform ARCH-LM test for heteroscedasticity\n",
    "test_result = result.arch_lm_test()\n",
    "\n",
    "# Display the test result\n",
    "print(test_result)"
   ]
  },
  {
   "cell_type": "code",
   "execution_count": 18,
   "id": "6daa4058-6406-4984-b427-e4f99527b1b8",
   "metadata": {},
   "outputs": [
    {
     "name": "stdout",
     "output_type": "stream",
     "text": [
      "Iteration:      1,   Func. Count:      8,   Neg. LLF: 65777652.63477366\n",
      "Iteration:      2,   Func. Count:     17,   Neg. LLF: 2340205.2850722326\n",
      "Iteration:      3,   Func. Count:     25,   Neg. LLF: 6.168676143191571\n",
      "Iteration:      4,   Func. Count:     34,   Neg. LLF: 62.36506989671307\n",
      "Iteration:      5,   Func. Count:     42,   Neg. LLF: 1.5774988838016704\n",
      "Iteration:      6,   Func. Count:     50,   Neg. LLF: 5.917256189214907\n",
      "Iteration:      7,   Func. Count:     58,   Neg. LLF: 2.0600373037206388\n",
      "Iteration:      8,   Func. Count:     67,   Neg. LLF: -4.578694446254271\n",
      "Iteration:      9,   Func. Count:     74,   Neg. LLF: -4.851061568568468\n",
      "Iteration:     10,   Func. Count:     81,   Neg. LLF: -4.960573711461451\n",
      "Iteration:     11,   Func. Count:     88,   Neg. LLF: -5.0127776660400585\n",
      "Iteration:     12,   Func. Count:     95,   Neg. LLF: -5.019514897495526\n",
      "Iteration:     13,   Func. Count:    102,   Neg. LLF: -5.0202107614179585\n",
      "Iteration:     14,   Func. Count:    109,   Neg. LLF: -5.020346691342761\n",
      "Iteration:     15,   Func. Count:    116,   Neg. LLF: -5.020354323883973\n",
      "Iteration:     16,   Func. Count:    122,   Neg. LLF: -5.02035415994599\n",
      "Optimization terminated successfully    (Exit mode 0)\n",
      "            Current function value: -5.020354323883973\n",
      "            Iterations: 16\n",
      "            Function evaluations: 122\n",
      "            Gradient evaluations: 16\n",
      "                    Constant Mean - GJR-GARCH Model Results                    \n",
      "===============================================================================\n",
      "Dep. Variable:     Oklahoma Spot Price   R-squared:                       0.000\n",
      "Mean Model:              Constant Mean   Adj. R-squared:                  0.000\n",
      "Vol Model:                   GJR-GARCH   Log-Likelihood:                5.02035\n",
      "Distribution:                   Normal   AIC:                           1.95929\n",
      "Method:             Maximum Likelihood   BIC:                           12.9311\n",
      "                                         No. Observations:                   46\n",
      "Date:                 Thu, Apr 04 2024   Df Residuals:                       45\n",
      "Time:                         10:34:32   Df Model:                            1\n",
      "                               Mean Model                               \n",
      "========================================================================\n",
      "                 coef    std err          t      P>|t|  95.0% Conf. Int.\n",
      "------------------------------------------------------------------------\n",
      "mu             1.3178      0.183      7.195  6.268e-13 [  0.959,  1.677]\n",
      "                              Volatility Model                             \n",
      "===========================================================================\n",
      "                 coef    std err          t      P>|t|     95.0% Conf. Int.\n",
      "---------------------------------------------------------------------------\n",
      "omega          0.0168  5.791e-02      0.291      0.771 [-9.666e-02,  0.130]\n",
      "alpha[1]       1.0000      2.738      0.365      0.715    [ -4.365,  6.365]\n",
      "alpha[2]       0.0000      0.936      0.000      1.000    [ -1.834,  1.834]\n",
      "gamma[1]      -0.5192      5.962 -8.708e-02      0.931    [-12.204, 11.166]\n",
      "beta[1]    8.0806e-10      2.001  4.037e-10      1.000    [ -3.923,  3.923]\n",
      "===========================================================================\n",
      "\n",
      "Covariance estimator: robust\n"
     ]
    },
    {
     "name": "stderr",
     "output_type": "stream",
     "text": [
      "C:\\Users\\Admin\\AppData\\Local\\Programs\\Python\\Python310\\lib\\site-packages\\arch\\univariate\\base.py:311: DataScaleWarning: y is poorly scaled, which may affect convergence of the optimizer when\n",
      "estimating the model parameters. The scale of y is 0.06458. Parameter\n",
      "estimation work better when this value is between 1 and 1000. The recommended\n",
      "rescaling is 10 * y.\n",
      "\n",
      "This warning can be disabled by either rescaling y before initializing the\n",
      "model or by setting rescale=False.\n",
      "\n",
      "  warnings.warn(\n"
     ]
    }
   ],
   "source": [
    "# second garch model\n",
    "# Specify the GARCH model\n",
    "model1 = arch_model(returns, vol='Garch', p=2, q=1, o=1)\n",
    "\n",
    "# Fit the model\n",
    "result1 = model1.fit()\n",
    "\n",
    "# Display the model summary\n",
    "print(result1.summary())"
   ]
  },
  {
   "cell_type": "code",
   "execution_count": 19,
   "id": "b868a1ad-ec03-4d3a-aacc-e9738610e576",
   "metadata": {},
   "outputs": [
    {
     "name": "stdout",
     "output_type": "stream",
     "text": [
      "ARCH-LM Test\n",
      "H0: Residuals are homoskedastic.\n",
      "ARCH-LM Test\n",
      "H1: Residuals are conditionally heteroskedastic.\n",
      "Statistic: 17.0880\n",
      "P-value: 0.0724\n",
      "Distributed: chi2(10)\n"
     ]
    }
   ],
   "source": [
    "# Perform ARCH-LM test for heteroscedasticity\n",
    "test_result1 = result1.arch_lm_test()\n",
    "\n",
    "# Display the test result\n",
    "print(test_result1)"
   ]
  }
 ],
 "metadata": {
  "kernelspec": {
   "display_name": "Python 3 (ipykernel)",
   "language": "python",
   "name": "python3"
  },
  "language_info": {
   "codemirror_mode": {
    "name": "ipython",
    "version": 3
   },
   "file_extension": ".py",
   "mimetype": "text/x-python",
   "name": "python",
   "nbconvert_exporter": "python",
   "pygments_lexer": "ipython3",
   "version": "3.10.13"
  }
 },
 "nbformat": 4,
 "nbformat_minor": 5
}
