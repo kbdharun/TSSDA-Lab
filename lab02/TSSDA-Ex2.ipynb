{
 "cells": [
  {
   "cell_type": "markdown",
   "id": "b45ebef6",
   "metadata": {},
   "source": [
    "# Basic Feature Engineering with Time Series Data"
   ]
  },
  {
   "cell_type": "markdown",
   "id": "42022b3f",
   "metadata": {},
   "source": [
    "**Aim**:\n",
    "\n",
    "The goal of feature engineering is to provide strong and ideally simple relationships between new\n",
    "input features and the output feature for the supervised learning algorithm to model. In effect, the\n",
    "best default strategy is to use all the knowledge available to create many good datasets from your\n",
    "time series dataset and use model performance to determine what good features and good views\n",
    "of your problem happen to be. And also, the rationale and goals of feature engineering time series\n",
    "data is to\n",
    "\n",
    "- Discover how to perform feature engineering on time series data with Python to model your \n",
    "time series problem with machine learning algorithms.\n",
    "- How to develop basic date-time based input features.\n",
    "  - Date Time Features: these are components of the time step itself for each observation.\n",
    "- How to develop more sophisticated lag and sliding window summary statistics features?\n",
    "  - Lag Features: these are values at prior time steps.\n",
    "  - Window Features: these are a summary of values over a fixed window of prior time\n",
    "steps.\n",
    "\n",
    "**Three classes of features:** <br>\n",
    "\n",
    "1. Date Time Features <br>\n",
    "2. Lag Features <br>\n",
    "3. Window Features <br>\n",
    "  - Rolling window <br>\n",
    "  - Expanding Window <br>"
   ]
  },
  {
   "cell_type": "markdown",
   "id": "28b8f8a6",
   "metadata": {},
   "source": [
    "Dataset: \"daily-min-temperatures\". <br>\n",
    "Dataset link: <https://raw.githubusercontent.com/jbrownlee/Datasets/master/daily-min-temperatures.csv>."
   ]
  },
  {
   "cell_type": "code",
   "execution_count": 2,
   "id": "8657b871",
   "metadata": {},
   "outputs": [],
   "source": [
    "# Importing required packages\n",
    "import matplotlib.pyplot as plt\n",
    "import pandas as pd\n",
    "\n",
    "from datetime import datetime"
   ]
  },
  {
   "cell_type": "markdown",
   "id": "13ae7ea5",
   "metadata": {},
   "source": [
    " a.) Feature Engineering for Time Series\n",
    "\n",
    "A time series dataset must be transformed to be modeled as a supervised learning problem.\n",
    "\n",
    "```txt\n",
    "This is something that looks like:| To something that looks like:\n",
    "1 time 1, value 1 |  1 input 1, output 1\n",
    "2 time 2, value 2 |  2 input 2, output 2\n",
    "3 time 3, value 3 | 3 input 3, output 3\n",
    "```"
   ]
  },
  {
   "cell_type": "code",
   "execution_count": 25,
   "id": "5829be1c",
   "metadata": {},
   "outputs": [],
   "source": [
    "df = pd.read_csv(\"daily-min-temperatures.csv\", index_col=0) # Reading the dataset"
   ]
  },
  {
   "cell_type": "code",
   "execution_count": 4,
   "id": "7c70b0ad",
   "metadata": {},
   "outputs": [
    {
     "data": {
      "text/html": [
       "<div>\n",
       "<style scoped>\n",
       "    .dataframe tbody tr th:only-of-type {\n",
       "        vertical-align: middle;\n",
       "    }\n",
       "\n",
       "    .dataframe tbody tr th {\n",
       "        vertical-align: top;\n",
       "    }\n",
       "\n",
       "    .dataframe thead th {\n",
       "        text-align: right;\n",
       "    }\n",
       "</style>\n",
       "<table border=\"1\" class=\"dataframe\">\n",
       "  <thead>\n",
       "    <tr style=\"text-align: right;\">\n",
       "      <th></th>\n",
       "      <th>Temp</th>\n",
       "    </tr>\n",
       "    <tr>\n",
       "      <th>Date</th>\n",
       "      <th></th>\n",
       "    </tr>\n",
       "  </thead>\n",
       "  <tbody>\n",
       "    <tr>\n",
       "      <th>1981-01-01</th>\n",
       "      <td>20.7</td>\n",
       "    </tr>\n",
       "    <tr>\n",
       "      <th>1981-01-02</th>\n",
       "      <td>17.9</td>\n",
       "    </tr>\n",
       "    <tr>\n",
       "      <th>1981-01-03</th>\n",
       "      <td>18.8</td>\n",
       "    </tr>\n",
       "    <tr>\n",
       "      <th>1981-01-04</th>\n",
       "      <td>14.6</td>\n",
       "    </tr>\n",
       "    <tr>\n",
       "      <th>1981-01-05</th>\n",
       "      <td>15.8</td>\n",
       "    </tr>\n",
       "  </tbody>\n",
       "</table>\n",
       "</div>"
      ],
      "text/plain": [
       "            Temp\n",
       "Date            \n",
       "1981-01-01  20.7\n",
       "1981-01-02  17.9\n",
       "1981-01-03  18.8\n",
       "1981-01-04  14.6\n",
       "1981-01-05  15.8"
      ]
     },
     "execution_count": 4,
     "metadata": {},
     "output_type": "execute_result"
    }
   ],
   "source": [
    "df.head() # View the first 5 rows"
   ]
  },
  {
   "cell_type": "code",
   "execution_count": 6,
   "id": "1942bc16",
   "metadata": {},
   "outputs": [
    {
     "data": {
      "text/plain": [
       "(3650, 1)"
      ]
     },
     "execution_count": 6,
     "metadata": {},
     "output_type": "execute_result"
    }
   ],
   "source": [
    "df.shape # Viewing no. of rows and columns"
   ]
  },
  {
   "cell_type": "code",
   "execution_count": 8,
   "id": "da7c36aa",
   "metadata": {},
   "outputs": [
    {
     "data": {
      "text/html": [
       "<div>\n",
       "<style scoped>\n",
       "    .dataframe tbody tr th:only-of-type {\n",
       "        vertical-align: middle;\n",
       "    }\n",
       "\n",
       "    .dataframe tbody tr th {\n",
       "        vertical-align: top;\n",
       "    }\n",
       "\n",
       "    .dataframe thead th {\n",
       "        text-align: right;\n",
       "    }\n",
       "</style>\n",
       "<table border=\"1\" class=\"dataframe\">\n",
       "  <thead>\n",
       "    <tr style=\"text-align: right;\">\n",
       "      <th></th>\n",
       "      <th>Temp</th>\n",
       "    </tr>\n",
       "  </thead>\n",
       "  <tbody>\n",
       "    <tr>\n",
       "      <th>count</th>\n",
       "      <td>3650.000000</td>\n",
       "    </tr>\n",
       "    <tr>\n",
       "      <th>mean</th>\n",
       "      <td>11.177753</td>\n",
       "    </tr>\n",
       "    <tr>\n",
       "      <th>std</th>\n",
       "      <td>4.071837</td>\n",
       "    </tr>\n",
       "    <tr>\n",
       "      <th>min</th>\n",
       "      <td>0.000000</td>\n",
       "    </tr>\n",
       "    <tr>\n",
       "      <th>25%</th>\n",
       "      <td>8.300000</td>\n",
       "    </tr>\n",
       "    <tr>\n",
       "      <th>50%</th>\n",
       "      <td>11.000000</td>\n",
       "    </tr>\n",
       "    <tr>\n",
       "      <th>75%</th>\n",
       "      <td>14.000000</td>\n",
       "    </tr>\n",
       "    <tr>\n",
       "      <th>max</th>\n",
       "      <td>26.300000</td>\n",
       "    </tr>\n",
       "  </tbody>\n",
       "</table>\n",
       "</div>"
      ],
      "text/plain": [
       "              Temp\n",
       "count  3650.000000\n",
       "mean     11.177753\n",
       "std       4.071837\n",
       "min       0.000000\n",
       "25%       8.300000\n",
       "50%      11.000000\n",
       "75%      14.000000\n",
       "max      26.300000"
      ]
     },
     "execution_count": 8,
     "metadata": {},
     "output_type": "execute_result"
    }
   ],
   "source": [
    "df.describe() # Summary statistics"
   ]
  },
  {
   "cell_type": "code",
   "execution_count": 10,
   "id": "6c8564d0",
   "metadata": {},
   "outputs": [
    {
     "data": {
      "text/plain": [
       "Temp    0\n",
       "dtype: int64"
      ]
     },
     "execution_count": 10,
     "metadata": {},
     "output_type": "execute_result"
    }
   ],
   "source": [
    "df.isnull().sum() # Checking datatypes"
   ]
  },
  {
   "cell_type": "markdown",
   "id": "345a800b",
   "metadata": {},
   "source": [
    "# Plotting the data"
   ]
  },
  {
   "cell_type": "code",
   "execution_count": 11,
   "id": "169af0bf",
   "metadata": {},
   "outputs": [
    {
     "data": {
      "image/png": "[encoded data removed]",
      "text/plain": [
       "<Figure size 432x288 with 1 Axes>"
      ]
     },
     "metadata": {
      "needs_background": "light"
     },
     "output_type": "display_data"
    }
   ],
   "source": [
    "df.hist() # Plot a histogram\n",
    "plt.title(\"Frequency of Temperature\") # Set title\n",
    "\n",
    "# Set labels\n",
    "plt.xlabel(\"Temperature\")\n",
    "plt.ylabel(\"Frequency\")\n",
    "plt.show()"
   ]
  },
  {
   "cell_type": "markdown",
   "id": "de0cf69b",
   "metadata": {},
   "source": [
    " b.) Date Time Features\n",
    "\n",
    "The simplest features are features from the date/time of each observation. Two features that we\n",
    "can start with are the integer month and day for each observation. Use these inputs to help tease\n",
    "out time-of-year or time-of-month type seasonality information."
   ]
  },
  {
   "cell_type": "code",
   "execution_count": 14,
   "id": "e82263dd",
   "metadata": {},
   "outputs": [],
   "source": [
    "format = \"%Y-%m-%d\" # Set date format\n",
    "\n",
    "# Initialize empty arrays\n",
    "day = []\n",
    "month = []\n",
    "year = []\n",
    "weekday = []\n",
    "weekday_dict = {}\n",
    "\n",
    "for d in df.index:\n",
    "    x = datetime.strptime(d, format)\n",
    "    day.append(x.day)\n",
    "    month.append(x.month)\n",
    "    year.append(x.year)\n",
    "    weekday.append(x.weekday())\n",
    "    if x.weekday() not in weekday_dict:\n",
    "        weekday_dict[x.weekday()] = x.strftime(\"%A\") \n",
    "\n",
    "# Set columns as seperate variables\n",
    "df[\"Day\"] = day\n",
    "df[\"Month\"] = month\n",
    "df[\"Year\"] = year\n",
    "df[\"Weekday\"] = weekday"
   ]
  },
  {
   "cell_type": "code",
   "execution_count": 20,
   "id": "85067b62",
   "metadata": {},
   "outputs": [
    {
     "data": {
      "text/html": [
       "<div>\n",
       "<style scoped>\n",
       "    .dataframe tbody tr th:only-of-type {\n",
       "        vertical-align: middle;\n",
       "    }\n",
       "\n",
       "    .dataframe tbody tr th {\n",
       "        vertical-align: top;\n",
       "    }\n",
       "\n",
       "    .dataframe thead th {\n",
       "        text-align: right;\n",
       "    }\n",
       "</style>\n",
       "<table border=\"1\" class=\"dataframe\">\n",
       "  <thead>\n",
       "    <tr style=\"text-align: right;\">\n",
       "      <th></th>\n",
       "      <th>Temp</th>\n",
       "      <th>Day</th>\n",
       "      <th>Month</th>\n",
       "      <th>Year</th>\n",
       "      <th>Weekday</th>\n",
       "    </tr>\n",
       "    <tr>\n",
       "      <th>Date</th>\n",
       "      <th></th>\n",
       "      <th></th>\n",
       "      <th></th>\n",
       "      <th></th>\n",
       "      <th></th>\n",
       "    </tr>\n",
       "  </thead>\n",
       "  <tbody>\n",
       "    <tr>\n",
       "      <th>1981-01-01</th>\n",
       "      <td>20.7</td>\n",
       "      <td>1</td>\n",
       "      <td>1</td>\n",
       "      <td>1981</td>\n",
       "      <td>3</td>\n",
       "    </tr>\n",
       "    <tr>\n",
       "      <th>1981-01-02</th>\n",
       "      <td>17.9</td>\n",
       "      <td>2</td>\n",
       "      <td>1</td>\n",
       "      <td>1981</td>\n",
       "      <td>4</td>\n",
       "    </tr>\n",
       "    <tr>\n",
       "      <th>1981-01-03</th>\n",
       "      <td>18.8</td>\n",
       "      <td>3</td>\n",
       "      <td>1</td>\n",
       "      <td>1981</td>\n",
       "      <td>5</td>\n",
       "    </tr>\n",
       "    <tr>\n",
       "      <th>1981-01-04</th>\n",
       "      <td>14.6</td>\n",
       "      <td>4</td>\n",
       "      <td>1</td>\n",
       "      <td>1981</td>\n",
       "      <td>6</td>\n",
       "    </tr>\n",
       "    <tr>\n",
       "      <th>1981-01-05</th>\n",
       "      <td>15.8</td>\n",
       "      <td>5</td>\n",
       "      <td>1</td>\n",
       "      <td>1981</td>\n",
       "      <td>0</td>\n",
       "    </tr>\n",
       "  </tbody>\n",
       "</table>\n",
       "</div>"
      ],
      "text/plain": [
       "            Temp  Day  Month  Year  Weekday\n",
       "Date                                       \n",
       "1981-01-01  20.7    1      1  1981        3\n",
       "1981-01-02  17.9    2      1  1981        4\n",
       "1981-01-03  18.8    3      1  1981        5\n",
       "1981-01-04  14.6    4      1  1981        6\n",
       "1981-01-05  15.8    5      1  1981        0"
      ]
     },
     "execution_count": 20,
     "metadata": {},
     "output_type": "execute_result"
    }
   ],
   "source": [
    "df.head() # Viewing first 5 records"
   ]
  },
  {
   "cell_type": "code",
   "execution_count": 44,
   "id": "58ef8fbb",
   "metadata": {},
   "outputs": [
    {
     "data": {
      "text/plain": [
       "{3: 'Thursday',\n",
       " 4: 'Friday',\n",
       " 5: 'Saturday',\n",
       " 6: 'Sunday',\n",
       " 0: 'Monday',\n",
       " 1: 'Tuesday',\n",
       " 2: 'Wednesday'}"
      ]
     },
     "execution_count": 44,
     "metadata": {},
     "output_type": "execute_result"
    }
   ],
   "source": [
    "weekday_dict # Viewing dictionary object"
   ]
  },
  {
   "cell_type": "code",
   "execution_count": 2,
   "id": "f188a3ec",
   "metadata": {},
   "outputs": [
    {
     "name": "stdout",
     "output_type": "stream",
     "text": [
      "{'timestamp': datetime.datetime(1981, 1, 1, 0, 0), 'value': 100}\n",
      "{'timestamp': datetime.datetime(1981, 1, 2, 0, 0), 'value': 200}\n"
     ]
    }
   ],
   "source": [
    "# Querying historical data over time\n",
    "from datetime import datetime, timedelta\n",
    "data = [\n",
    "    {\"timestamp\": datetime(1981, 1, 1), \"value\": 100},\n",
    "    {\"timestamp\": datetime(1981, 1, 2), \"value\": 200},\n",
    "    {\"timestamp\": datetime(1981, 1, 3), \"value\": 300},\n",
    "    # ...\n",
    "]\n",
    "\n",
    "def query_historical_data(start_time, end_time, data):\n",
    "    return [item for item in data if start_time <= item[\"timestamp\"] <= end_time]\n",
    "\n",
    "start_time = datetime(1981, 1, 1)\n",
    "end_time = datetime(1981, 1, 2)\n",
    "\n",
    "filtered_data = query_historical_data(start_time, end_time, data)\n",
    "for item in filtered_data:\n",
    "    print(item)"
   ]
  },
  {
   "cell_type": "markdown",
   "id": "edcd0dfe",
   "metadata": {},
   "source": [
    " c.) Lag Features\n",
    "\n",
    "Lag features are the classical way that time series forecasting problems are transformed into\n",
    "supervised learning problems. The supervised learning problem with shifted values looks as\n",
    "follows: \n",
    "\n",
    "1. Value(t-1), Value(t+1)\n",
    "2. Value(t-1), Value(t+1)\n",
    "3. Value(t-1), Value(t+1)"
   ]
  },
  {
   "cell_type": "code",
   "execution_count": 26,
   "id": "17fa5eac",
   "metadata": {},
   "outputs": [],
   "source": [
    "# Creating a new DataFrame to avoid conflicts with existing one\n",
    "\n",
    "series = pd.read_csv(\"daily-min-temperatures.csv\", header=0, index_col=0) # Read dataset"
   ]
  },
  {
   "cell_type": "code",
   "execution_count": 27,
   "id": "af284090",
   "metadata": {},
   "outputs": [
    {
     "data": {
      "text/html": [
       "<div>\n",
       "<style scoped>\n",
       "    .dataframe tbody tr th:only-of-type {\n",
       "        vertical-align: middle;\n",
       "    }\n",
       "\n",
       "    .dataframe tbody tr th {\n",
       "        vertical-align: top;\n",
       "    }\n",
       "\n",
       "    .dataframe thead th {\n",
       "        text-align: right;\n",
       "    }\n",
       "</style>\n",
       "<table border=\"1\" class=\"dataframe\">\n",
       "  <thead>\n",
       "    <tr style=\"text-align: right;\">\n",
       "      <th></th>\n",
       "      <th>Temp</th>\n",
       "    </tr>\n",
       "    <tr>\n",
       "      <th>Date</th>\n",
       "      <th></th>\n",
       "    </tr>\n",
       "  </thead>\n",
       "  <tbody>\n",
       "    <tr>\n",
       "      <th>1981-01-01</th>\n",
       "      <td>20.7</td>\n",
       "    </tr>\n",
       "    <tr>\n",
       "      <th>1981-01-02</th>\n",
       "      <td>17.9</td>\n",
       "    </tr>\n",
       "    <tr>\n",
       "      <th>1981-01-03</th>\n",
       "      <td>18.8</td>\n",
       "    </tr>\n",
       "    <tr>\n",
       "      <th>1981-01-04</th>\n",
       "      <td>14.6</td>\n",
       "    </tr>\n",
       "    <tr>\n",
       "      <th>1981-01-05</th>\n",
       "      <td>15.8</td>\n",
       "    </tr>\n",
       "  </tbody>\n",
       "</table>\n",
       "</div>"
      ],
      "text/plain": [
       "            Temp\n",
       "Date            \n",
       "1981-01-01  20.7\n",
       "1981-01-02  17.9\n",
       "1981-01-03  18.8\n",
       "1981-01-04  14.6\n",
       "1981-01-05  15.8"
      ]
     },
     "execution_count": 27,
     "metadata": {},
     "output_type": "execute_result"
    }
   ],
   "source": [
    "series.head() # View 5 records"
   ]
  },
  {
   "cell_type": "code",
   "execution_count": 39,
   "id": "b8a34bf7",
   "metadata": {},
   "outputs": [
    {
     "data": {
      "text/plain": [
       "[<matplotlib.lines.Line2D at 0x1bfd8eca9d0>]"
      ]
     },
     "execution_count": 39,
     "metadata": {},
     "output_type": "execute_result"
    },
    {
     "data": {
      "image/png": "[encoded data removed]",
      "text/plain": [
       "<Figure size 432x288 with 1 Axes>"
      ]
     },
     "metadata": {
      "needs_background": "light"
     },
     "output_type": "display_data"
    }
   ],
   "source": [
    "plt.plot(series)"
   ]
  },
  {
   "cell_type": "code",
   "execution_count": 28,
   "id": "9c9e51a9",
   "metadata": {},
   "outputs": [
    {
     "data": {
      "text/html": [
       "<div>\n",
       "<style scoped>\n",
       "    .dataframe tbody tr th:only-of-type {\n",
       "        vertical-align: middle;\n",
       "    }\n",
       "\n",
       "    .dataframe tbody tr th {\n",
       "        vertical-align: top;\n",
       "    }\n",
       "\n",
       "    .dataframe thead th {\n",
       "        text-align: right;\n",
       "    }\n",
       "</style>\n",
       "<table border=\"1\" class=\"dataframe\">\n",
       "  <thead>\n",
       "    <tr style=\"text-align: right;\">\n",
       "      <th></th>\n",
       "      <th>0</th>\n",
       "    </tr>\n",
       "  </thead>\n",
       "  <tbody>\n",
       "    <tr>\n",
       "      <th>0</th>\n",
       "      <td>20.7</td>\n",
       "    </tr>\n",
       "    <tr>\n",
       "      <th>1</th>\n",
       "      <td>17.9</td>\n",
       "    </tr>\n",
       "    <tr>\n",
       "      <th>2</th>\n",
       "      <td>18.8</td>\n",
       "    </tr>\n",
       "    <tr>\n",
       "      <th>3</th>\n",
       "      <td>14.6</td>\n",
       "    </tr>\n",
       "    <tr>\n",
       "      <th>4</th>\n",
       "      <td>15.8</td>\n",
       "    </tr>\n",
       "  </tbody>\n",
       "</table>\n",
       "</div>"
      ],
      "text/plain": [
       "      0\n",
       "0  20.7\n",
       "1  17.9\n",
       "2  18.8\n",
       "3  14.6\n",
       "4  15.8"
      ]
     },
     "execution_count": 28,
     "metadata": {},
     "output_type": "execute_result"
    }
   ],
   "source": [
    "temps = pd.DataFrame(series.values)\n",
    "temps.head()"
   ]
  },
  {
   "cell_type": "code",
   "execution_count": 32,
   "id": "ee8bd424",
   "metadata": {},
   "outputs": [
    {
     "name": "stdout",
     "output_type": "stream",
     "text": [
      "<bound method NDFrame.head of        t-3   t-2   t-1   t+1\n",
      "0      NaN   NaN   NaN  20.7\n",
      "1      NaN   NaN  20.7  17.9\n",
      "2      NaN  20.7  17.9  18.8\n",
      "3     20.7  17.9  18.8  14.6\n",
      "4     17.9  18.8  14.6  15.8\n",
      "...    ...   ...   ...   ...\n",
      "3645  10.0  12.9  14.6  14.0\n",
      "3646  12.9  14.6  14.0  13.6\n",
      "3647  14.6  14.0  13.6  13.5\n",
      "3648  14.0  13.6  13.5  15.7\n",
      "3649  13.6  13.5  15.7  13.0\n",
      "\n",
      "[3650 rows x 4 columns]>\n"
     ]
    }
   ],
   "source": [
    "dataframe = pd.concat([temps.shift(3), temps.shift(2), temps.shift(1), temps], axis=1)\n",
    "dataframe.columns = ['t-3', 't-2', 't-1', 't+1']\n",
    "print(dataframe.head)"
   ]
  },
  {
   "cell_type": "code",
   "execution_count": 33,
   "id": "aa1026c9",
   "metadata": {},
   "outputs": [
    {
     "data": {
      "text/html": [
       "<div>\n",
       "<style scoped>\n",
       "    .dataframe tbody tr th:only-of-type {\n",
       "        vertical-align: middle;\n",
       "    }\n",
       "\n",
       "    .dataframe tbody tr th {\n",
       "        vertical-align: top;\n",
       "    }\n",
       "\n",
       "    .dataframe thead th {\n",
       "        text-align: right;\n",
       "    }\n",
       "</style>\n",
       "<table border=\"1\" class=\"dataframe\">\n",
       "  <thead>\n",
       "    <tr style=\"text-align: right;\">\n",
       "      <th></th>\n",
       "      <th>t-1</th>\n",
       "      <th>t+1</th>\n",
       "    </tr>\n",
       "  </thead>\n",
       "  <tbody>\n",
       "    <tr>\n",
       "      <th>0</th>\n",
       "      <td>NaN</td>\n",
       "      <td>20.7</td>\n",
       "    </tr>\n",
       "    <tr>\n",
       "      <th>1</th>\n",
       "      <td>20.7</td>\n",
       "      <td>17.9</td>\n",
       "    </tr>\n",
       "    <tr>\n",
       "      <th>2</th>\n",
       "      <td>17.9</td>\n",
       "      <td>18.8</td>\n",
       "    </tr>\n",
       "    <tr>\n",
       "      <th>3</th>\n",
       "      <td>18.8</td>\n",
       "      <td>14.6</td>\n",
       "    </tr>\n",
       "    <tr>\n",
       "      <th>4</th>\n",
       "      <td>14.6</td>\n",
       "      <td>15.8</td>\n",
       "    </tr>\n",
       "  </tbody>\n",
       "</table>\n",
       "</div>"
      ],
      "text/plain": [
       "    t-1   t+1\n",
       "0   NaN  20.7\n",
       "1  20.7  17.9\n",
       "2  17.9  18.8\n",
       "3  18.8  14.6\n",
       "4  14.6  15.8"
      ]
     },
     "execution_count": 33,
     "metadata": {},
     "output_type": "execute_result"
    }
   ],
   "source": [
    "dataframe = pd.concat([temps.shift(1), temps], axis=1)\n",
    "dataframe.columns = ['t-1', 't+1']\n",
    "dataframe.head()"
   ]
  },
  {
   "cell_type": "markdown",
   "id": "b1232601",
   "metadata": {},
   "source": [
    " d.) Rolling Window Statistics\n",
    "\n",
    "- Add a summary of the values at previous time steps.\n",
    "- Calculate summary statistics across the values in the sliding window and include these as\n",
    "features in our dataset.\n",
    "  - First, shift the series\n",
    "  - Create the rolling dataset\n",
    "  - Calculate the mean values on each window of two values.\n",
    "  - Construct the new dataset with just our new columns using concat() function"
   ]
  },
  {
   "cell_type": "code",
   "execution_count": 36,
   "id": "84d659f2",
   "metadata": {},
   "outputs": [
    {
     "data": {
      "text/html": [
       "<div>\n",
       "<style scoped>\n",
       "    .dataframe tbody tr th:only-of-type {\n",
       "        vertical-align: middle;\n",
       "    }\n",
       "\n",
       "    .dataframe tbody tr th {\n",
       "        vertical-align: top;\n",
       "    }\n",
       "\n",
       "    .dataframe thead th {\n",
       "        text-align: right;\n",
       "    }\n",
       "</style>\n",
       "<table border=\"1\" class=\"dataframe\">\n",
       "  <thead>\n",
       "    <tr style=\"text-align: right;\">\n",
       "      <th></th>\n",
       "      <th>mean(t-2,t-1)</th>\n",
       "      <th>t+1</th>\n",
       "    </tr>\n",
       "  </thead>\n",
       "  <tbody>\n",
       "    <tr>\n",
       "      <th>0</th>\n",
       "      <td>NaN</td>\n",
       "      <td>20.7</td>\n",
       "    </tr>\n",
       "    <tr>\n",
       "      <th>1</th>\n",
       "      <td>NaN</td>\n",
       "      <td>17.9</td>\n",
       "    </tr>\n",
       "    <tr>\n",
       "      <th>2</th>\n",
       "      <td>NaN</td>\n",
       "      <td>18.8</td>\n",
       "    </tr>\n",
       "    <tr>\n",
       "      <th>3</th>\n",
       "      <td>19.133333</td>\n",
       "      <td>14.6</td>\n",
       "    </tr>\n",
       "    <tr>\n",
       "      <th>4</th>\n",
       "      <td>17.100000</td>\n",
       "      <td>15.8</td>\n",
       "    </tr>\n",
       "  </tbody>\n",
       "</table>\n",
       "</div>"
      ],
      "text/plain": [
       "   mean(t-2,t-1)   t+1\n",
       "0            NaN  20.7\n",
       "1            NaN  17.9\n",
       "2            NaN  18.8\n",
       "3      19.133333  14.6\n",
       "4      17.100000  15.8"
      ]
     },
     "execution_count": 36,
     "metadata": {},
     "output_type": "execute_result"
    }
   ],
   "source": [
    "series = pd.read_csv(\"Daily-min-temperatures.csv\", header=0, index_col=0) # Reread dataset\n",
    "temps = pd.DataFrame(series.values)\n",
    "shifted = temps.shift(1) # Shift series\n",
    "window = shifted.rolling(window=3)\n",
    "means = window.mean() # Calculating mean\n",
    "\n",
    "dataframe = pd.concat([means, temps], axis=1) # Construct new dataset\n",
    "dataframe.columns = ['mean(t-2,t-1)', 't+1']\n",
    "dataframe.head() # Display 5 records"
   ]
  },
  {
   "cell_type": "markdown",
   "id": "b22e197a",
   "metadata": {},
   "source": [
    "e.) **Expanding Window Statistics**\n",
    "\n",
    "An expanding window can help with keeping track of the bounds of observable data. Like\n",
    "the rolling() function on DataFrame, Pandas provides an expanding() function that collects sets of\n",
    "all prior values for each time step. These lists of prior numbers can be summarized and included\n",
    "as new features. Shift the series one-time step to ensure that the output value we wish to predict is\n",
    "excluded from these window values. The statistical calculations exclude the NaN values in the\n",
    "expanding window, meaning no further modification is required.\n",
    "\n",
    "----\n",
    "\n",
    "*__Notes__*\n",
    "\n",
    "The values of first 5 windows are: <br>\n",
    "\n",
    "1. NaN\n",
    "2. NaN,NaN\n",
    "3. NaN,NaN,20.7\n",
    "4. NaN,20.7,17.9\n",
    "5. 20.7,17.9,18.8 <br><br>\n",
    "\n",
    "Thereforce, only the 5th window has usable data."
   ]
  },
  {
   "cell_type": "code",
   "execution_count": 37,
   "id": "a141fc29",
   "metadata": {},
   "outputs": [
    {
     "name": "stdout",
     "output_type": "stream",
     "text": [
      "    min       mean   max   t+1\n",
      "0  20.7  20.700000  20.7  17.9\n",
      "1  17.9  19.300000  20.7  18.8\n",
      "2  17.9  19.133333  20.7  14.6\n",
      "3  14.6  18.000000  20.7  15.8\n",
      "4  14.6  17.560000  20.7  15.8\n"
     ]
    }
   ],
   "source": [
    "series = pd.read_csv('Daily-min-temperatures.csv', header=0, index_col=0) # Read dataset\n",
    "temps = pd.DataFrame(series.values)\n",
    "\n",
    "window = temps.expanding() # Expanding window\n",
    "dataframe = pd.concat([window.min(), window.mean(), window.max(), temps.shift(-1)], axis=1) # Finding statistics\n",
    "dataframe.columns = ['min', 'mean', 'max', 't+1'] #Specify columns to show\n",
    "print(dataframe.head(5))"
   ]
  }
 ],
 "metadata": {
  "kernelspec": {
   "display_name": "Python 3 (ipykernel)",
   "language": "python",
   "name": "python3"
  },
  "language_info": {
   "codemirror_mode": {
    "name": "ipython",
    "version": 3
   },
   "file_extension": ".py",
   "mimetype": "text/x-python",
   "name": "python",
   "nbconvert_exporter": "python",
   "pygments_lexer": "ipython3",
   "version": "3.12.1"
  }
 },
 "nbformat": 4,
 "nbformat_minor": 5
}
